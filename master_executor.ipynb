{
 "cells": [
  {
   "cell_type": "markdown",
   "id": "3d44a998",
   "metadata": {
    "heading_collapsed": true
   },
   "source": [
    "# description"
   ]
  },
  {
   "cell_type": "markdown",
   "id": "6c22a593",
   "metadata": {
    "hidden": true
   },
   "source": [
    "**purpose**: execute control of agent to find best model\n",
    "\n",
    "**current capability**\n",
    "- none\n",
    "\n",
    "**desired capability**\n",
    "- create agent that will get rewards based on desired output defined in data-model space\n",
    "\n",
    "**nomenclature**\n",
    "- data-model space: \n",
    "    - data: sets chosen to look at to generate predictions, the output is a data set and its feature engineering\n",
    "    - model: all models applicable to problem at hand, the output is the model and its paramers"
   ]
  },
  {
   "cell_type": "markdown",
   "id": "a4c3b0ec",
   "metadata": {},
   "source": [
    "# setup"
   ]
  },
  {
   "cell_type": "code",
   "execution_count": 4,
   "id": "444f656c",
   "metadata": {
    "ExecuteTime": {
     "end_time": "2022-04-17T04:44:45.179002Z",
     "start_time": "2022-04-17T04:44:44.474734Z"
    }
   },
   "outputs": [],
   "source": [
    "import pandas as pd"
   ]
  },
  {
   "cell_type": "markdown",
   "id": "e7614137",
   "metadata": {},
   "source": [
    "# execution"
   ]
  },
  {
   "cell_type": "code",
   "execution_count": null,
   "id": "ee21f8b8",
   "metadata": {},
   "outputs": [],
   "source": []
  }
 ],
 "metadata": {
  "kernelspec": {
   "display_name": "kaggla",
   "language": "python",
   "name": "kaggla"
  },
  "language_info": {
   "codemirror_mode": {
    "name": "ipython",
    "version": 3
   },
   "file_extension": ".py",
   "mimetype": "text/x-python",
   "name": "python",
   "nbconvert_exporter": "python",
   "pygments_lexer": "ipython3",
   "version": "3.8.10"
  },
  "toc": {
   "base_numbering": 1,
   "nav_menu": {},
   "number_sections": true,
   "sideBar": true,
   "skip_h1_title": false,
   "title_cell": "Table of Contents",
   "title_sidebar": "Contents",
   "toc_cell": false,
   "toc_position": {},
   "toc_section_display": true,
   "toc_window_display": false
  }
 },
 "nbformat": 4,
 "nbformat_minor": 5
}
