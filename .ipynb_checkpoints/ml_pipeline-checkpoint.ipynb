{
 "cells": [
  {
   "cell_type": "markdown",
   "metadata": {},
   "source": [
    "# terminal execution"
   ]
  },
  {
   "cell_type": "code",
   "execution_count": 83,
   "metadata": {
    "ExecuteTime": {
     "end_time": "2020-11-11T21:58:31.718367Z",
     "start_time": "2020-11-11T21:58:06.041291Z"
    }
   },
   "outputs": [
    {
     "name": "stdout",
     "output_type": "stream",
     "text": [
      "Collecting matplotlib\n",
      "  Downloading https://files.pythonhosted.org/packages/d2/43/2bd63467490036697e7be71444fafc7b236923d614d4521979a200c6b559/matplotlib-3.3.3-cp36-cp36m-manylinux1_x86_64.whl (11.6MB)\n",
      "\u001b[K    100% |████████████████████████████████| 11.6MB 110kB/s ta 0:00:01\n",
      "\u001b[?25hCollecting numpy>=1.15 (from matplotlib)\n",
      "  Using cached https://files.pythonhosted.org/packages/a6/fc/36e52d0ae2aa502b211f1bcd2fdeec72d343d58224eabcdddc1bcb052db1/numpy-1.19.4-cp36-cp36m-manylinux1_x86_64.whl\n",
      "Collecting kiwisolver>=1.0.1 (from matplotlib)\n",
      "  Downloading https://files.pythonhosted.org/packages/a7/1b/cbd8ae738719b5f41592a12057ef5442e2ed5f5cb5451f8fc7e9f8875a1a/kiwisolver-1.3.1-cp36-cp36m-manylinux1_x86_64.whl (1.1MB)\n",
      "\u001b[K    100% |████████████████████████████████| 1.1MB 414kB/s ta 0:00:01\n",
      "\u001b[?25hCollecting pyparsing!=2.0.4,!=2.1.2,!=2.1.6,>=2.0.3 (from matplotlib)\n",
      "  Using cached https://files.pythonhosted.org/packages/8a/bb/488841f56197b13700afd5658fc279a2025a39e22449b7cf29864669b15d/pyparsing-2.4.7-py2.py3-none-any.whl\n",
      "Collecting cycler>=0.10 (from matplotlib)\n",
      "  Downloading https://files.pythonhosted.org/packages/f7/d2/e07d3ebb2bd7af696440ce7e754c59dd546ffe1bbe732c8ab68b9c834e61/cycler-0.10.0-py2.py3-none-any.whl\n",
      "Collecting python-dateutil>=2.1 (from matplotlib)\n",
      "  Using cached https://files.pythonhosted.org/packages/d4/70/d60450c3dd48ef87586924207ae8907090de0b306af2bce5d134d78615cb/python_dateutil-2.8.1-py2.py3-none-any.whl\n",
      "Collecting pillow>=6.2.0 (from matplotlib)\n",
      "  Downloading https://files.pythonhosted.org/packages/5f/19/d4c25111d36163698396f93c363114cf1cddbacb24744f6612f25b6aa3d0/Pillow-8.0.1-cp36-cp36m-manylinux1_x86_64.whl (2.2MB)\n",
      "\u001b[K    100% |████████████████████████████████| 2.2MB 371kB/s ta 0:00:01\n",
      "\u001b[?25hCollecting six (from cycler>=0.10->matplotlib)\n",
      "  Using cached https://files.pythonhosted.org/packages/ee/ff/48bde5c0f013094d729fe4b0316ba2a24774b3ff1c52d924a8a4cb04078a/six-1.15.0-py2.py3-none-any.whl\n",
      "Installing collected packages: numpy, kiwisolver, pyparsing, six, cycler, python-dateutil, pillow, matplotlib\n",
      "Successfully installed cycler-0.10.0 kiwisolver-1.3.1 matplotlib-3.3.3 numpy-1.19.4 pillow-8.0.1 pyparsing-2.4.7 python-dateutil-2.8.1 six-1.15.0\n"
     ]
    }
   ],
   "source": [
    "! pip3 install matplotlib"
   ]
  },
  {
   "cell_type": "markdown",
   "metadata": {
    "heading_collapsed": true
   },
   "source": [
    "# user input"
   ]
  },
  {
   "cell_type": "code",
   "execution_count": 4,
   "metadata": {
    "ExecuteTime": {
     "end_time": "2020-12-06T17:04:36.948580Z",
     "start_time": "2020-12-06T17:04:36.945287Z"
    },
    "code_folding": [],
    "hidden": true
   },
   "outputs": [],
   "source": [
    "basePath = '~/Documents/kagglai/'\n",
    "srcPath = 'src'\n",
    "dataPath = 'dat'\n",
    "\n",
    "projectName = 'melbourne_housing_snapshot'\n",
    "rawInputPath = 'melb_data.csv'\n",
    "\n",
    "randomSeed = 0"
   ]
  },
  {
   "cell_type": "markdown",
   "metadata": {
    "heading_collapsed": true
   },
   "source": [
    "# dependencies"
   ]
  },
  {
   "cell_type": "code",
   "execution_count": 18,
   "metadata": {
    "ExecuteTime": {
     "end_time": "2020-12-06T17:06:38.478575Z",
     "start_time": "2020-12-06T17:06:38.471949Z"
    },
    "hidden": true
   },
   "outputs": [],
   "source": [
    "# general\n",
    "import os\n",
    "import datetime\n",
    "from operator import itemgetter\n",
    "\n",
    "# data manipulation\n",
    "import pandas as pd\n",
    "import numpy as np\n",
    "\n",
    "# modeling\n",
    "from sklearn.model_selection import train_test_split\n",
    "\n",
    "# models\n",
    "from sklearn.tree import DecisionTreeRegressor\n",
    "from sklearn.ensemble import RandomForestRegressor\n",
    "\n",
    "# metrics\n",
    "from sklearn.metrics import mean_absolute_error, mean_squared_log_error\n",
    "\n",
    "# hyper-parameter tuning\n",
    "from sklearn.model_selection import cross_val_score\n",
    "from skopt.space import Real, Integer\n",
    "from skopt.utils import use_named_args\n",
    "from skopt import gp_minimize\n",
    "\n",
    "# visualization\n",
    "from matplotlib import pyplot as plt\n",
    "from skopt.plots import plot_convergence"
   ]
  },
  {
   "cell_type": "markdown",
   "metadata": {
    "heading_collapsed": true
   },
   "source": [
    "# initialization"
   ]
  },
  {
   "cell_type": "code",
   "execution_count": 5,
   "metadata": {
    "ExecuteTime": {
     "end_time": "2020-12-06T17:04:40.714030Z",
     "start_time": "2020-12-06T17:04:40.708058Z"
    },
    "hidden": true
   },
   "outputs": [],
   "source": [
    "### Initialization\n",
    "BASE_DIRECTORY = os.path.dirname(basePath)\n",
    "CODE_DIRECTORY = os.path.join(BASE_DIRECTORY, srcPath)\n",
    "DATA_DIRECTORY = os.path.join(BASE_DIRECTORY, dataPath)\n",
    "\n",
    "PROJECT_DIRECTORY = os.path.join(DATA_DIRECTORY, projectName)\n",
    "IN_DIRECTORY = os.path.join(PROJECT_DIRECTORY, 'in')\n",
    "OUT_DIRECTORY = os.path.join(PROJECT_DIRECTORY, 'out')\n",
    "RAW_INPUT_PATH = os.path.join(IN_DIRECTORY, rawInputPath)\n",
    "\n",
    "X_TST_PATH = os.path.join(IN_DIRECTORY, 'x_tst.feather')\n",
    "X_TRN_PATH = os.path.join(IN_DIRECTORY, 'x_trn.feather')\n",
    "Y_TST_PATH = os.path.join(IN_DIRECTORY, 'y_tst.feather')\n",
    "Y_TRN_PATH = os.path.join(IN_DIRECTORY, 'y_trn.feather')"
   ]
  },
  {
   "cell_type": "markdown",
   "metadata": {
    "heading_collapsed": true
   },
   "source": [
    "# custom classes and functions"
   ]
  },
  {
   "cell_type": "code",
   "execution_count": 54,
   "metadata": {
    "ExecuteTime": {
     "end_time": "2020-12-06T17:47:47.065868Z",
     "start_time": "2020-12-06T17:47:47.060188Z"
    },
    "hidden": true
   },
   "outputs": [],
   "source": [
    "def spit_data(data, yName, randomSeed=0):\n",
    "    x = rawDataframe.drop(yName, axis=1)\n",
    "    y = rawDataframe[yName]\n",
    "    train_x, test_x, train_y, test_y = train_test_split(x, y, random_state = randomSeed)\n",
    "    test_y.to_frame().reset_index().to_feather(Y_TST_PATH)\n",
    "    test_x.reset_index().to_feather(X_TST_PATH)\n",
    "    train_y.to_frame().reset_index().to_feather(Y_TRN_PATH)\n",
    "    train_x.reset_index().to_feather(X_TRN_PATH)    "
   ]
  },
  {
   "cell_type": "code",
   "execution_count": 7,
   "metadata": {
    "ExecuteTime": {
     "end_time": "2020-12-06T17:04:42.663683Z",
     "start_time": "2020-12-06T17:04:42.659800Z"
    },
    "hidden": true
   },
   "outputs": [],
   "source": [
    "def get_mae(model, x_trn, x_val, y_trn, y_val):\n",
    "    model.fit(x_trn, y_trn)\n",
    "    y_p_val = model.predict(x_val)\n",
    "    y_p_trn = model.predict(x_trn)\n",
    "    mae_trn = mean_absolute_error(y_trn, y_p_trn)\n",
    "    mae_val = mean_absolute_error(y_val, y_p_val)\n",
    "    return mae_trn, mae_val\n"
   ]
  },
  {
   "cell_type": "code",
   "execution_count": 8,
   "metadata": {
    "ExecuteTime": {
     "end_time": "2020-12-06T17:04:42.990911Z",
     "start_time": "2020-12-06T17:04:42.982446Z"
    },
    "hidden": true
   },
   "outputs": [],
   "source": [
    "def log_spaced_int_list(start=0.1, end=3, nPoints=50, multFactor=5):\n",
    "    l = list(multFactor*np.logspace(start, end, nPoints, endpoint=True))\n",
    "    l = [int(i) for i in l]\n",
    "    l = list(dict.fromkeys(l))\n",
    "    if 0 in l:\n",
    "        l.remove(0)\n",
    "    if 1 in l:\n",
    "        l.remove(1)\n",
    "    return l"
   ]
  },
  {
   "cell_type": "code",
   "execution_count": 9,
   "metadata": {
    "ExecuteTime": {
     "end_time": "2020-12-06T17:04:43.605030Z",
     "start_time": "2020-12-06T17:04:43.600203Z"
    },
    "hidden": true
   },
   "outputs": [],
   "source": [
    "def feature_engineering(x, y):\n",
    "    melbourne_features = ['Rooms', 'Bathroom', 'Landsize', 'Lattitude', 'Longtitude']\n",
    "    x = x[melbourne_features]\n",
    "    return x, y\n"
   ]
  },
  {
   "cell_type": "code",
   "execution_count": null,
   "metadata": {
    "hidden": true
   },
   "outputs": [],
   "source": [
    "def rf_hyperopt_randomsearch():\n",
    "    rf = RandomForestRegressor(n_estimators=100, criterion='mse', max_depth=200,random_state=randomSeed, oob_score=True)\n",
    "    distributions = dict(n_estimators = [50,100,150], \n",
    "                         max_features =  [\"auto\", \"sqrt\", \"log2\"],\n",
    "                         max_depth=[50,100,200],\n",
    "                         oob_score=[True],\n",
    "                         min_samples_leaf=[20,50,100])\n",
    "\n",
    "    search_rf = RandomizedSearchCV(rf, distributions, random_state=0)\n",
    "    search = search_rf.fit(x, y)\n",
    "    search.best_params_"
   ]
  },
  {
   "cell_type": "code",
   "execution_count": 56,
   "metadata": {
    "ExecuteTime": {
     "end_time": "2020-12-06T17:49:15.337033Z",
     "start_time": "2020-12-06T17:49:15.331526Z"
    },
    "hidden": true
   },
   "outputs": [],
   "source": [
    "def skot_hyperopt(space, model, x, y):\n",
    "    @use_named_args(space)\n",
    "    def objective(**params):\n",
    "        model.set_params(**params)\n",
    "\n",
    "        return -np.mean(cross_val_score(model, x, y, cv=5, n_jobs=-1,\n",
    "                                        scoring=\"neg_mean_absolute_error\"))\n",
    "    res_gp = gp_minimize(objective, space, n_calls=50, random_state=0)\n",
    "    return res_gp"
   ]
  },
  {
   "cell_type": "markdown",
   "metadata": {
    "heading_collapsed": true
   },
   "source": [
    "# data input"
   ]
  },
  {
   "cell_type": "code",
   "execution_count": 10,
   "metadata": {
    "ExecuteTime": {
     "end_time": "2020-12-06T17:04:44.878044Z",
     "start_time": "2020-12-06T17:04:44.735870Z"
    },
    "hidden": true
   },
   "outputs": [],
   "source": [
    "rawDataframe = pd.read_csv(RAW_INPUT_PATH)\n",
    "yName = 'Price'\n",
    "spit_data(rawDataframe, yName, randomSeed)"
   ]
  },
  {
   "cell_type": "code",
   "execution_count": 11,
   "metadata": {
    "ExecuteTime": {
     "end_time": "2020-12-06T17:04:45.409995Z",
     "start_time": "2020-12-06T17:04:45.391284Z"
    },
    "hidden": true
   },
   "outputs": [],
   "source": [
    "x = pd.read_feather(X_TRN_PATH)\n",
    "y = pd.read_feather(Y_TRN_PATH)\n",
    "xy = pd.concat([x,y],axis=1,sort=False)"
   ]
  },
  {
   "cell_type": "markdown",
   "metadata": {
    "heading_collapsed": true
   },
   "source": [
    "# exploratory data analysis"
   ]
  },
  {
   "cell_type": "code",
   "execution_count": 12,
   "metadata": {
    "ExecuteTime": {
     "end_time": "2020-12-06T17:04:47.036409Z",
     "start_time": "2020-12-06T17:04:46.986260Z"
    },
    "hidden": true
   },
   "outputs": [
    {
     "data": {
      "text/html": [
       "<div>\n",
       "<style scoped>\n",
       "    .dataframe tbody tr th:only-of-type {\n",
       "        vertical-align: middle;\n",
       "    }\n",
       "\n",
       "    .dataframe tbody tr th {\n",
       "        vertical-align: top;\n",
       "    }\n",
       "\n",
       "    .dataframe thead th {\n",
       "        text-align: right;\n",
       "    }\n",
       "</style>\n",
       "<table border=\"1\" class=\"dataframe\">\n",
       "  <thead>\n",
       "    <tr style=\"text-align: right;\">\n",
       "      <th></th>\n",
       "      <th>index</th>\n",
       "      <th>Suburb</th>\n",
       "      <th>Address</th>\n",
       "      <th>Rooms</th>\n",
       "      <th>Type</th>\n",
       "      <th>Method</th>\n",
       "      <th>SellerG</th>\n",
       "      <th>Date</th>\n",
       "      <th>Distance</th>\n",
       "      <th>Postcode</th>\n",
       "      <th>...</th>\n",
       "      <th>Landsize</th>\n",
       "      <th>BuildingArea</th>\n",
       "      <th>YearBuilt</th>\n",
       "      <th>CouncilArea</th>\n",
       "      <th>Lattitude</th>\n",
       "      <th>Longtitude</th>\n",
       "      <th>Regionname</th>\n",
       "      <th>Propertycount</th>\n",
       "      <th>index</th>\n",
       "      <th>Price</th>\n",
       "    </tr>\n",
       "  </thead>\n",
       "  <tbody>\n",
       "    <tr>\n",
       "      <th>0</th>\n",
       "      <td>664</td>\n",
       "      <td>Balwyn North</td>\n",
       "      <td>85a Woodville St</td>\n",
       "      <td>3</td>\n",
       "      <td>h</td>\n",
       "      <td>S</td>\n",
       "      <td>Fletchers</td>\n",
       "      <td>22/05/2016</td>\n",
       "      <td>9.2</td>\n",
       "      <td>3104.0</td>\n",
       "      <td>...</td>\n",
       "      <td>368.0</td>\n",
       "      <td>177.0</td>\n",
       "      <td>2009.0</td>\n",
       "      <td>Boroondara</td>\n",
       "      <td>-37.78460</td>\n",
       "      <td>145.09350</td>\n",
       "      <td>Southern Metropolitan</td>\n",
       "      <td>7809.0</td>\n",
       "      <td>664</td>\n",
       "      <td>1335000.0</td>\n",
       "    </tr>\n",
       "    <tr>\n",
       "      <th>1</th>\n",
       "      <td>3270</td>\n",
       "      <td>Heidelberg Heights</td>\n",
       "      <td>96 Lloyd St</td>\n",
       "      <td>2</td>\n",
       "      <td>h</td>\n",
       "      <td>S</td>\n",
       "      <td>Miles</td>\n",
       "      <td>28/05/2016</td>\n",
       "      <td>10.5</td>\n",
       "      <td>3081.0</td>\n",
       "      <td>...</td>\n",
       "      <td>586.0</td>\n",
       "      <td>80.0</td>\n",
       "      <td>1955.0</td>\n",
       "      <td>Banyule</td>\n",
       "      <td>-37.74350</td>\n",
       "      <td>145.04860</td>\n",
       "      <td>Eastern Metropolitan</td>\n",
       "      <td>2947.0</td>\n",
       "      <td>3270</td>\n",
       "      <td>590000.0</td>\n",
       "    </tr>\n",
       "    <tr>\n",
       "      <th>2</th>\n",
       "      <td>3873</td>\n",
       "      <td>Malvern East</td>\n",
       "      <td>8a Anderson St</td>\n",
       "      <td>2</td>\n",
       "      <td>h</td>\n",
       "      <td>S</td>\n",
       "      <td>Marshall</td>\n",
       "      <td>22/08/2016</td>\n",
       "      <td>11.2</td>\n",
       "      <td>3145.0</td>\n",
       "      <td>...</td>\n",
       "      <td>348.0</td>\n",
       "      <td>NaN</td>\n",
       "      <td>NaN</td>\n",
       "      <td>Stonnington</td>\n",
       "      <td>-37.86720</td>\n",
       "      <td>145.04320</td>\n",
       "      <td>Southern Metropolitan</td>\n",
       "      <td>8801.0</td>\n",
       "      <td>3873</td>\n",
       "      <td>1420000.0</td>\n",
       "    </tr>\n",
       "    <tr>\n",
       "      <th>3</th>\n",
       "      <td>13170</td>\n",
       "      <td>Epping</td>\n",
       "      <td>2 Dransfield Wy</td>\n",
       "      <td>3</td>\n",
       "      <td>h</td>\n",
       "      <td>S</td>\n",
       "      <td>hockingstuart</td>\n",
       "      <td>23/09/2017</td>\n",
       "      <td>19.6</td>\n",
       "      <td>3076.0</td>\n",
       "      <td>...</td>\n",
       "      <td>521.0</td>\n",
       "      <td>NaN</td>\n",
       "      <td>NaN</td>\n",
       "      <td>None</td>\n",
       "      <td>-37.63854</td>\n",
       "      <td>145.05179</td>\n",
       "      <td>Northern Metropolitan</td>\n",
       "      <td>10926.0</td>\n",
       "      <td>13170</td>\n",
       "      <td>552500.0</td>\n",
       "    </tr>\n",
       "    <tr>\n",
       "      <th>4</th>\n",
       "      <td>1730</td>\n",
       "      <td>Carnegie</td>\n",
       "      <td>4 Vine Gr</td>\n",
       "      <td>4</td>\n",
       "      <td>h</td>\n",
       "      <td>S</td>\n",
       "      <td>Gary</td>\n",
       "      <td>10/09/2016</td>\n",
       "      <td>11.4</td>\n",
       "      <td>3163.0</td>\n",
       "      <td>...</td>\n",
       "      <td>687.0</td>\n",
       "      <td>237.0</td>\n",
       "      <td>1983.0</td>\n",
       "      <td>Glen Eira</td>\n",
       "      <td>-37.89310</td>\n",
       "      <td>145.04790</td>\n",
       "      <td>Southern Metropolitan</td>\n",
       "      <td>7822.0</td>\n",
       "      <td>1730</td>\n",
       "      <td>1830000.0</td>\n",
       "    </tr>\n",
       "  </tbody>\n",
       "</table>\n",
       "<p>5 rows × 23 columns</p>\n",
       "</div>"
      ],
      "text/plain": [
       "   index              Suburb           Address  Rooms Type Method  \\\n",
       "0    664        Balwyn North  85a Woodville St      3    h      S   \n",
       "1   3270  Heidelberg Heights       96 Lloyd St      2    h      S   \n",
       "2   3873        Malvern East    8a Anderson St      2    h      S   \n",
       "3  13170              Epping   2 Dransfield Wy      3    h      S   \n",
       "4   1730            Carnegie         4 Vine Gr      4    h      S   \n",
       "\n",
       "         SellerG        Date  Distance  Postcode  ...  Landsize  BuildingArea  \\\n",
       "0      Fletchers  22/05/2016       9.2    3104.0  ...     368.0         177.0   \n",
       "1          Miles  28/05/2016      10.5    3081.0  ...     586.0          80.0   \n",
       "2       Marshall  22/08/2016      11.2    3145.0  ...     348.0           NaN   \n",
       "3  hockingstuart  23/09/2017      19.6    3076.0  ...     521.0           NaN   \n",
       "4           Gary  10/09/2016      11.4    3163.0  ...     687.0         237.0   \n",
       "\n",
       "   YearBuilt  CouncilArea  Lattitude  Longtitude             Regionname  \\\n",
       "0     2009.0   Boroondara  -37.78460   145.09350  Southern Metropolitan   \n",
       "1     1955.0      Banyule  -37.74350   145.04860   Eastern Metropolitan   \n",
       "2        NaN  Stonnington  -37.86720   145.04320  Southern Metropolitan   \n",
       "3        NaN         None  -37.63854   145.05179  Northern Metropolitan   \n",
       "4     1983.0    Glen Eira  -37.89310   145.04790  Southern Metropolitan   \n",
       "\n",
       "   Propertycount  index      Price  \n",
       "0         7809.0    664  1335000.0  \n",
       "1         2947.0   3270   590000.0  \n",
       "2         8801.0   3873  1420000.0  \n",
       "3        10926.0  13170   552500.0  \n",
       "4         7822.0   1730  1830000.0  \n",
       "\n",
       "[5 rows x 23 columns]"
      ]
     },
     "execution_count": 12,
     "metadata": {},
     "output_type": "execute_result"
    }
   ],
   "source": [
    "xy.head()"
   ]
  },
  {
   "cell_type": "code",
   "execution_count": 13,
   "metadata": {
    "ExecuteTime": {
     "end_time": "2020-12-06T17:04:47.440222Z",
     "start_time": "2020-12-06T17:04:47.366731Z"
    },
    "hidden": true,
    "scrolled": true
   },
   "outputs": [
    {
     "data": {
      "text/html": [
       "<div>\n",
       "<style scoped>\n",
       "    .dataframe tbody tr th:only-of-type {\n",
       "        vertical-align: middle;\n",
       "    }\n",
       "\n",
       "    .dataframe tbody tr th {\n",
       "        vertical-align: top;\n",
       "    }\n",
       "\n",
       "    .dataframe thead th {\n",
       "        text-align: right;\n",
       "    }\n",
       "</style>\n",
       "<table border=\"1\" class=\"dataframe\">\n",
       "  <thead>\n",
       "    <tr style=\"text-align: right;\">\n",
       "      <th></th>\n",
       "      <th>index</th>\n",
       "      <th>Rooms</th>\n",
       "      <th>Distance</th>\n",
       "      <th>Postcode</th>\n",
       "      <th>Bedroom2</th>\n",
       "      <th>Bathroom</th>\n",
       "      <th>Car</th>\n",
       "      <th>Landsize</th>\n",
       "      <th>BuildingArea</th>\n",
       "      <th>YearBuilt</th>\n",
       "      <th>Lattitude</th>\n",
       "      <th>Longtitude</th>\n",
       "      <th>Propertycount</th>\n",
       "      <th>index</th>\n",
       "      <th>Price</th>\n",
       "    </tr>\n",
       "  </thead>\n",
       "  <tbody>\n",
       "    <tr>\n",
       "      <th>count</th>\n",
       "      <td>10185.000000</td>\n",
       "      <td>10185.000000</td>\n",
       "      <td>10185.000000</td>\n",
       "      <td>10185.000000</td>\n",
       "      <td>10185.000000</td>\n",
       "      <td>10185.000000</td>\n",
       "      <td>10138.000000</td>\n",
       "      <td>10185.000000</td>\n",
       "      <td>5342.000000</td>\n",
       "      <td>6143.000000</td>\n",
       "      <td>10185.000000</td>\n",
       "      <td>10185.000000</td>\n",
       "      <td>10185.000000</td>\n",
       "      <td>10185.000000</td>\n",
       "      <td>1.018500e+04</td>\n",
       "    </tr>\n",
       "    <tr>\n",
       "      <th>mean</th>\n",
       "      <td>6749.233873</td>\n",
       "      <td>2.942366</td>\n",
       "      <td>10.116721</td>\n",
       "      <td>3105.967599</td>\n",
       "      <td>2.918017</td>\n",
       "      <td>1.535395</td>\n",
       "      <td>1.605741</td>\n",
       "      <td>567.235641</td>\n",
       "      <td>154.655601</td>\n",
       "      <td>1964.938304</td>\n",
       "      <td>-37.810149</td>\n",
       "      <td>144.995563</td>\n",
       "      <td>7466.846343</td>\n",
       "      <td>6749.233873</td>\n",
       "      <td>1.075481e+06</td>\n",
       "    </tr>\n",
       "    <tr>\n",
       "      <th>std</th>\n",
       "      <td>3925.976166</td>\n",
       "      <td>0.963655</td>\n",
       "      <td>5.860105</td>\n",
       "      <td>91.313518</td>\n",
       "      <td>0.976780</td>\n",
       "      <td>0.692903</td>\n",
       "      <td>0.964761</td>\n",
       "      <td>4503.885496</td>\n",
       "      <td>621.692518</td>\n",
       "      <td>36.299008</td>\n",
       "      <td>0.079451</td>\n",
       "      <td>0.103232</td>\n",
       "      <td>4360.065355</td>\n",
       "      <td>3925.976166</td>\n",
       "      <td>6.354123e+05</td>\n",
       "    </tr>\n",
       "    <tr>\n",
       "      <th>min</th>\n",
       "      <td>0.000000</td>\n",
       "      <td>1.000000</td>\n",
       "      <td>0.000000</td>\n",
       "      <td>3000.000000</td>\n",
       "      <td>0.000000</td>\n",
       "      <td>0.000000</td>\n",
       "      <td>0.000000</td>\n",
       "      <td>0.000000</td>\n",
       "      <td>0.000000</td>\n",
       "      <td>1830.000000</td>\n",
       "      <td>-38.182550</td>\n",
       "      <td>144.431810</td>\n",
       "      <td>249.000000</td>\n",
       "      <td>0.000000</td>\n",
       "      <td>8.500000e+04</td>\n",
       "    </tr>\n",
       "    <tr>\n",
       "      <th>25%</th>\n",
       "      <td>3336.000000</td>\n",
       "      <td>2.000000</td>\n",
       "      <td>6.100000</td>\n",
       "      <td>3046.000000</td>\n",
       "      <td>2.000000</td>\n",
       "      <td>1.000000</td>\n",
       "      <td>1.000000</td>\n",
       "      <td>178.000000</td>\n",
       "      <td>92.000000</td>\n",
       "      <td>1940.000000</td>\n",
       "      <td>-37.857500</td>\n",
       "      <td>144.930400</td>\n",
       "      <td>4385.000000</td>\n",
       "      <td>3336.000000</td>\n",
       "      <td>6.500000e+05</td>\n",
       "    </tr>\n",
       "    <tr>\n",
       "      <th>50%</th>\n",
       "      <td>6719.000000</td>\n",
       "      <td>3.000000</td>\n",
       "      <td>9.200000</td>\n",
       "      <td>3084.000000</td>\n",
       "      <td>3.000000</td>\n",
       "      <td>1.000000</td>\n",
       "      <td>2.000000</td>\n",
       "      <td>440.000000</td>\n",
       "      <td>126.000000</td>\n",
       "      <td>1970.000000</td>\n",
       "      <td>-37.803200</td>\n",
       "      <td>145.000600</td>\n",
       "      <td>6567.000000</td>\n",
       "      <td>6719.000000</td>\n",
       "      <td>9.050000e+05</td>\n",
       "    </tr>\n",
       "    <tr>\n",
       "      <th>75%</th>\n",
       "      <td>10158.000000</td>\n",
       "      <td>4.000000</td>\n",
       "      <td>13.000000</td>\n",
       "      <td>3149.000000</td>\n",
       "      <td>3.000000</td>\n",
       "      <td>2.000000</td>\n",
       "      <td>2.000000</td>\n",
       "      <td>651.000000</td>\n",
       "      <td>174.750000</td>\n",
       "      <td>2000.000000</td>\n",
       "      <td>-37.757180</td>\n",
       "      <td>145.057700</td>\n",
       "      <td>10331.000000</td>\n",
       "      <td>10158.000000</td>\n",
       "      <td>1.326000e+06</td>\n",
       "    </tr>\n",
       "    <tr>\n",
       "      <th>max</th>\n",
       "      <td>13578.000000</td>\n",
       "      <td>10.000000</td>\n",
       "      <td>48.100000</td>\n",
       "      <td>3977.000000</td>\n",
       "      <td>20.000000</td>\n",
       "      <td>8.000000</td>\n",
       "      <td>10.000000</td>\n",
       "      <td>433014.000000</td>\n",
       "      <td>44515.000000</td>\n",
       "      <td>2018.000000</td>\n",
       "      <td>-37.408530</td>\n",
       "      <td>145.482730</td>\n",
       "      <td>21650.000000</td>\n",
       "      <td>13578.000000</td>\n",
       "      <td>8.000000e+06</td>\n",
       "    </tr>\n",
       "  </tbody>\n",
       "</table>\n",
       "</div>"
      ],
      "text/plain": [
       "              index         Rooms      Distance      Postcode      Bedroom2  \\\n",
       "count  10185.000000  10185.000000  10185.000000  10185.000000  10185.000000   \n",
       "mean    6749.233873      2.942366     10.116721   3105.967599      2.918017   \n",
       "std     3925.976166      0.963655      5.860105     91.313518      0.976780   \n",
       "min        0.000000      1.000000      0.000000   3000.000000      0.000000   \n",
       "25%     3336.000000      2.000000      6.100000   3046.000000      2.000000   \n",
       "50%     6719.000000      3.000000      9.200000   3084.000000      3.000000   \n",
       "75%    10158.000000      4.000000     13.000000   3149.000000      3.000000   \n",
       "max    13578.000000     10.000000     48.100000   3977.000000     20.000000   \n",
       "\n",
       "           Bathroom           Car       Landsize  BuildingArea    YearBuilt  \\\n",
       "count  10185.000000  10138.000000   10185.000000   5342.000000  6143.000000   \n",
       "mean       1.535395      1.605741     567.235641    154.655601  1964.938304   \n",
       "std        0.692903      0.964761    4503.885496    621.692518    36.299008   \n",
       "min        0.000000      0.000000       0.000000      0.000000  1830.000000   \n",
       "25%        1.000000      1.000000     178.000000     92.000000  1940.000000   \n",
       "50%        1.000000      2.000000     440.000000    126.000000  1970.000000   \n",
       "75%        2.000000      2.000000     651.000000    174.750000  2000.000000   \n",
       "max        8.000000     10.000000  433014.000000  44515.000000  2018.000000   \n",
       "\n",
       "          Lattitude    Longtitude  Propertycount         index         Price  \n",
       "count  10185.000000  10185.000000   10185.000000  10185.000000  1.018500e+04  \n",
       "mean     -37.810149    144.995563    7466.846343   6749.233873  1.075481e+06  \n",
       "std        0.079451      0.103232    4360.065355   3925.976166  6.354123e+05  \n",
       "min      -38.182550    144.431810     249.000000      0.000000  8.500000e+04  \n",
       "25%      -37.857500    144.930400    4385.000000   3336.000000  6.500000e+05  \n",
       "50%      -37.803200    145.000600    6567.000000   6719.000000  9.050000e+05  \n",
       "75%      -37.757180    145.057700   10331.000000  10158.000000  1.326000e+06  \n",
       "max      -37.408530    145.482730   21650.000000  13578.000000  8.000000e+06  "
      ]
     },
     "execution_count": 13,
     "metadata": {},
     "output_type": "execute_result"
    }
   ],
   "source": [
    "xy.describe()"
   ]
  },
  {
   "cell_type": "markdown",
   "metadata": {
    "heading_collapsed": true
   },
   "source": [
    "# pre-processing"
   ]
  },
  {
   "cell_type": "code",
   "execution_count": null,
   "metadata": {
    "hidden": true
   },
   "outputs": [],
   "source": []
  },
  {
   "cell_type": "markdown",
   "metadata": {
    "heading_collapsed": true
   },
   "source": [
    "# feature engineering"
   ]
  },
  {
   "cell_type": "code",
   "execution_count": 14,
   "metadata": {
    "ExecuteTime": {
     "end_time": "2020-12-06T17:04:51.801173Z",
     "start_time": "2020-12-06T17:04:51.796842Z"
    },
    "hidden": true
   },
   "outputs": [],
   "source": [
    "x, y = feature_engineering(x, y)"
   ]
  },
  {
   "cell_type": "markdown",
   "metadata": {
    "heading_collapsed": true
   },
   "source": [
    "# pre-modeling"
   ]
  },
  {
   "cell_type": "code",
   "execution_count": 12,
   "metadata": {
    "hidden": true
   },
   "outputs": [],
   "source": [
    "x_trn, x_val, y_trn, y_val = train_test_split(x, y, random_state = randomSeed)"
   ]
  },
  {
   "cell_type": "code",
   "execution_count": 13,
   "metadata": {
    "hidden": true
   },
   "outputs": [
    {
     "data": {
      "text/plain": [
       "((7638, 5), (2547, 5))"
      ]
     },
     "execution_count": 13,
     "metadata": {},
     "output_type": "execute_result"
    }
   ],
   "source": [
    "x_trn.shape,x_val.shape"
   ]
  },
  {
   "cell_type": "code",
   "execution_count": 64,
   "metadata": {
    "ExecuteTime": {
     "end_time": "2020-12-06T15:01:11.533428Z",
     "start_time": "2020-12-06T15:01:11.472267Z"
    },
    "hidden": true
   },
   "outputs": [
    {
     "name": "stdout",
     "output_type": "stream",
     "text": [
      "357.1749258095487 124854.3591643764 348.5608178020612\n"
     ]
    }
   ],
   "source": [
    "# Decision Tree\n",
    "dtr = DecisionTreeRegressor(random_state=randomSeed)\n",
    "dtr.fit(x_trn, y_trn)\n",
    "\n",
    "y_p_trn = dtr.predict(x_trn)\n",
    "y_p_val = dtr.predict(x_val)\n",
    "\n",
    "mae_trn = mean_absolute_error(y_p_trn, y_trn)\n",
    "mae_val = mean_absolute_error(y_p_val, y_val)\n",
    "diff = mae_val - mae_trn\n",
    "ratio = diff/mae_trn\n",
    "print(mae_trn, mae_val, ratio )"
   ]
  },
  {
   "cell_type": "code",
   "execution_count": 66,
   "metadata": {
    "ExecuteTime": {
     "end_time": "2020-12-06T15:02:36.826532Z",
     "start_time": "2020-12-06T15:02:34.563048Z"
    },
    "hidden": true
   },
   "outputs": [
    {
     "name": "stdout",
     "output_type": "stream",
     "text": [
      "34784.93945028174 93615.52314354338 1.691265950810363\n"
     ]
    }
   ],
   "source": [
    "# Random Forest\n",
    "rf = RandomForestRegressor(random_state=randomSeed)\n",
    "rf.fit(x_trn, y_trn)\n",
    "\n",
    "y_p_trn = rf.predict(x_trn)\n",
    "y_p_val = rf.predict(x_val)\n",
    "\n",
    "mae_trn = mean_absolute_error(y_p_trn, y_trn)\n",
    "mae_val = mean_absolute_error(y_p_val, y_val)\n",
    "\n",
    "diff = mae_val - mae_trn\n",
    "ratio = diff/mae_trn\n",
    "print(mae_trn, mae_val, ratio )"
   ]
  },
  {
   "cell_type": "code",
   "execution_count": 60,
   "metadata": {
    "ExecuteTime": {
     "end_time": "2020-12-06T14:55:09.656063Z",
     "start_time": "2020-12-06T14:55:09.574516Z"
    },
    "hidden": true
   },
   "outputs": [],
   "source": [
    "?? RandomForestRegressor"
   ]
  },
  {
   "cell_type": "markdown",
   "metadata": {
    "heading_collapsed": true
   },
   "source": [
    "# hyper-parameter tuning"
   ]
  },
  {
   "cell_type": "code",
   "execution_count": 57,
   "metadata": {
    "ExecuteTime": {
     "end_time": "2020-12-06T17:51:15.863121Z",
     "start_time": "2020-12-06T17:50:22.414156Z"
    },
    "hidden": true
   },
   "outputs": [
    {
     "name": "stderr",
     "output_type": "stream",
     "text": [
      "/home/alex/.local/lib/python3.6/site-packages/skopt/optimizer/optimizer.py:449: UserWarning: The objective has been evaluated at this point before.\n",
      "  warnings.warn(\"The objective has been evaluated \"\n",
      "/home/alex/.local/lib/python3.6/site-packages/skopt/optimizer/optimizer.py:449: UserWarning: The objective has been evaluated at this point before.\n",
      "  warnings.warn(\"The objective has been evaluated \"\n",
      "/home/alex/.local/lib/python3.6/site-packages/skopt/optimizer/optimizer.py:449: UserWarning: The objective has been evaluated at this point before.\n",
      "  warnings.warn(\"The objective has been evaluated \"\n",
      "/home/alex/.local/lib/python3.6/site-packages/skopt/optimizer/optimizer.py:449: UserWarning: The objective has been evaluated at this point before.\n",
      "  warnings.warn(\"The objective has been evaluated \"\n"
     ]
    }
   ],
   "source": [
    "dtr = DecisionTreeRegressor(max_depth=None,\n",
    "                            max_leaf_nodes=700,\n",
    "                            min_samples_split=2,\n",
    "                            min_samples_leaf=1)\n",
    "\n",
    "space  = [  Integer(50, 2000, name='max_depth'),\n",
    "            Integer(50, 1500, name='max_leaf_nodes'),\n",
    "            Integer(2, 50, name='min_samples_split'),\n",
    "            Integer(1, 50, name='min_samples_leaf')\n",
    "         ]\n",
    "\n",
    "res_gp = skot_hyperopt(space, dtr, x, y)"
   ]
  },
  {
   "cell_type": "code",
   "execution_count": 58,
   "metadata": {
    "ExecuteTime": {
     "end_time": "2020-12-06T17:51:16.055805Z",
     "start_time": "2020-12-06T17:51:15.865497Z"
    },
    "hidden": true
   },
   "outputs": [
    {
     "name": "stdout",
     "output_type": "stream",
     "text": [
      "Best score=110144.6802\n",
      "Best parameters:\n",
      "max_depth=1152\n",
      "max_leaf_nodes=1246\n",
      "min_samples_split=16\n",
      "min_samples_leaf=8\n",
      "\n"
     ]
    },
    {
     "data": {
      "text/plain": [
       "<AxesSubplot:title={'center':'Convergence plot'}, xlabel='Number of calls $n$', ylabel='$\\\\min f(x)$ after $n$ calls'>"
      ]
     },
     "execution_count": 58,
     "metadata": {},
     "output_type": "execute_result"
    },
    {
     "data": {
      "image/png": "[encoded data removed]",
      "text/plain": [
       "<Figure size 432x288 with 1 Axes>"
      ]
     },
     "metadata": {
      "needs_background": "light"
     },
     "output_type": "display_data"
    }
   ],
   "source": [
    "print(\"Best score=%.4f\" % res_gp.fun)\n",
    "print(\"\"\"Best parameters:\n",
    "max_depth=%d\n",
    "max_leaf_nodes=%d\n",
    "min_samples_split=%d\n",
    "min_samples_leaf=%d\n",
    "\"\"\" % (res_gp.x[0], res_gp.x[1],\n",
    "                            res_gp.x[2], res_gp.x[3]))\n",
    "plot_convergence(res_gp)"
   ]
  },
  {
   "cell_type": "code",
   "execution_count": 27,
   "metadata": {
    "ExecuteTime": {
     "end_time": "2020-12-06T17:22:03.730866Z",
     "start_time": "2020-12-06T17:22:03.720794Z"
    },
    "hidden": true
   },
   "outputs": [],
   "source": [
    "rf = RandomForestRegressor(criterion='mse', max_features = \"sqrt\", random_state=randomSeed, oob_score=True)\n",
    "\n",
    "space  = [  Integer(50, 300, name='n_estimators'),\n",
    "            Integer(50, 300, name='max_depth'),\n",
    "            Integer(1, 100, name='min_samples_leaf'),\n",
    "            Integer(2, 50, name='min_samples_split')\n",
    "         ]\n",
    "\n",
    "res_gp_rf = skot_hyperopt(space, rf, x, y)"
   ]
  },
  {
   "cell_type": "code",
   "execution_count": 31,
   "metadata": {
    "ExecuteTime": {
     "end_time": "2020-12-06T17:28:31.524498Z",
     "start_time": "2020-12-06T17:28:31.517209Z"
    },
    "hidden": true
   },
   "outputs": [
    {
     "name": "stdout",
     "output_type": "stream",
     "text": [
      "Best score=94479.8626\n",
      "Best parameters:\n",
      "- n_estimators=300\n",
      "- max_depth=50\n",
      "- min_samples_leaf=1\n",
      "- min_samples_split=2\n",
      "\n"
     ]
    }
   ],
   "source": [
    "print(\"Best score=%.4f\" % res_gp_rf.fun)\n",
    "print(\"\"\"Best parameters:\n",
    "n_estimators=%d\n",
    "max_depth=%d\n",
    "min_samples_leaf=%d\n",
    "min_samples_split=%d\n",
    "\"\"\" % (res_gp_rf.x[0], res_gp_rf.x[1],res_gp_rf.x[2], res_gp_rf.x[3]))\n",
    "plot_convergence(res_gp_rf)"
   ]
  },
  {
   "cell_type": "markdown",
   "metadata": {
    "heading_collapsed": true
   },
   "source": [
    "# comparison with others"
   ]
  },
  {
   "cell_type": "code",
   "execution_count": null,
   "metadata": {
    "hidden": true
   },
   "outputs": [],
   "source": []
  },
  {
   "cell_type": "markdown",
   "metadata": {
    "heading_collapsed": true
   },
   "source": [
    "# double check"
   ]
  },
  {
   "cell_type": "code",
   "execution_count": null,
   "metadata": {
    "hidden": true
   },
   "outputs": [],
   "source": []
  },
  {
   "cell_type": "markdown",
   "metadata": {
    "heading_collapsed": true
   },
   "source": [
    "# full data"
   ]
  },
  {
   "cell_type": "code",
   "execution_count": 52,
   "metadata": {
    "ExecuteTime": {
     "end_time": "2020-12-06T17:45:11.702154Z",
     "start_time": "2020-12-06T17:45:11.646146Z"
    },
    "hidden": true
   },
   "outputs": [
    {
     "data": {
      "text/plain": [
       "(0.553507633283657, 80594.28243587608)"
      ]
     },
     "execution_count": 52,
     "metadata": {},
     "output_type": "execute_result"
    }
   ],
   "source": [
    "dtr = DecisionTreeRegressor(max_depth=1152,\n",
    "                            max_leaf_nodes=728,\n",
    "                            min_samples_split=12,\n",
    "                            min_samples_leaf=8)\n",
    "dtr.fit(x,y)\n",
    "y_p = dtr.predict(x)\n",
    "mae = mean_absolute_error(y_p, y)\n",
    "dtr.score(x,y), mae"
   ]
  },
  {
   "cell_type": "code",
   "execution_count": 41,
   "metadata": {
    "ExecuteTime": {
     "end_time": "2020-12-06T17:32:50.198329Z",
     "start_time": "2020-12-06T17:32:49.073600Z"
    },
    "hidden": true
   },
   "outputs": [
    {
     "data": {
      "text/plain": [
       "(0.490238578149862, 0.9305987376055522, 34328.416920312295)"
      ]
     },
     "execution_count": 41,
     "metadata": {},
     "output_type": "execute_result"
    }
   ],
   "source": [
    "rf = RandomForestRegressor(criterion='mse', \n",
    "                           max_features = \"sqrt\", \n",
    "                           random_state=randomSeed, \n",
    "                           oob_score=True,\n",
    "                           n_estimators=300,\n",
    "                           max_depth=50,\n",
    "                           min_samples_leaf=1,\n",
    "                           min_samples_split=2)\n",
    "rf.fit(x,y)\n",
    "y_p = rf.predict(x)\n",
    "mae = mean_absolute_error(y_p, y)\n",
    "rf.oob_score_, rf.score(x,y), mae"
   ]
  },
  {
   "cell_type": "markdown",
   "metadata": {
    "heading_collapsed": true
   },
   "source": [
    "# testing"
   ]
  },
  {
   "cell_type": "code",
   "execution_count": 48,
   "metadata": {
    "ExecuteTime": {
     "end_time": "2020-12-06T17:41:48.001264Z",
     "start_time": "2020-12-06T17:41:47.988205Z"
    },
    "hidden": true
   },
   "outputs": [],
   "source": [
    "# read test data\n",
    "x_test = pd.read_feather(X_TST_PATH)\n",
    "y_test = pd.read_feather(Y_TST_PATH)"
   ]
  },
  {
   "cell_type": "code",
   "execution_count": 49,
   "metadata": {
    "ExecuteTime": {
     "end_time": "2020-12-06T17:41:50.089095Z",
     "start_time": "2020-12-06T17:41:50.084938Z"
    },
    "hidden": true
   },
   "outputs": [],
   "source": [
    "x_test, y_test = feature_engineering(x_test, y_test)"
   ]
  },
  {
   "cell_type": "code",
   "execution_count": 50,
   "metadata": {
    "ExecuteTime": {
     "end_time": "2020-12-06T17:41:50.863270Z",
     "start_time": "2020-12-06T17:41:50.616344Z"
    },
    "hidden": true,
    "scrolled": true
   },
   "outputs": [
    {
     "data": {
      "text/plain": [
       "92963.12992378572"
      ]
     },
     "execution_count": 50,
     "metadata": {},
     "output_type": "execute_result"
    }
   ],
   "source": [
    "# Random Forest\n",
    "y_pred = rf.predict(x_test)\n",
    "mean_absolute_error(y_pred, y_test)"
   ]
  },
  {
   "cell_type": "code",
   "execution_count": 51,
   "metadata": {
    "ExecuteTime": {
     "end_time": "2020-12-06T17:41:51.539705Z",
     "start_time": "2020-12-06T17:41:51.525641Z"
    },
    "hidden": true
   },
   "outputs": [
    {
     "data": {
      "text/plain": [
       "108844.27591047403"
      ]
     },
     "execution_count": 51,
     "metadata": {},
     "output_type": "execute_result"
    }
   ],
   "source": [
    "# Decision Tree\n",
    "y_pred = dtr.predict(x_test)\n",
    "mean_absolute_error(y_pred, y_test)"
   ]
  },
  {
   "cell_type": "markdown",
   "metadata": {
    "heading_collapsed": true
   },
   "source": [
    "# results"
   ]
  },
  {
   "cell_type": "code",
   "execution_count": 59,
   "metadata": {
    "hidden": true
   },
   "outputs": [],
   "source": []
  },
  {
   "cell_type": "code",
   "execution_count": null,
   "metadata": {
    "hidden": true
   },
   "outputs": [],
   "source": []
  }
 ],
 "metadata": {
  "kernelspec": {
   "display_name": "Python 3",
   "language": "python",
   "name": "python3"
  },
  "language_info": {
   "codemirror_mode": {
    "name": "ipython",
    "version": 3
   },
   "file_extension": ".py",
   "mimetype": "text/x-python",
   "name": "python",
   "nbconvert_exporter": "python",
   "pygments_lexer": "ipython3",
   "version": "3.6.9"
  },
  "toc": {
   "base_numbering": 1,
   "nav_menu": {},
   "number_sections": true,
   "sideBar": true,
   "skip_h1_title": false,
   "title_cell": "Table of Contents",
   "title_sidebar": "Contents",
   "toc_cell": false,
   "toc_position": {},
   "toc_section_display": true,
   "toc_window_display": false
  }
 },
 "nbformat": 4,
 "nbformat_minor": 4
}
