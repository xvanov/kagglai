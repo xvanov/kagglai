{
 "cells": [
  {
   "cell_type": "markdown",
   "metadata": {},
   "source": [
    "# set meta"
   ]
  },
  {
   "cell_type": "markdown",
   "metadata": {
    "heading_collapsed": true
   },
   "source": [
    "## terminal execution"
   ]
  },
  {
   "cell_type": "code",
   "execution_count": 83,
   "metadata": {
    "ExecuteTime": {
     "end_time": "2020-11-11T21:58:31.718367Z",
     "start_time": "2020-11-11T21:58:06.041291Z"
    },
    "hidden": true
   },
   "outputs": [
    {
     "name": "stdout",
     "output_type": "stream",
     "text": [
      "Collecting matplotlib\n",
      "  Downloading https://files.pythonhosted.org/packages/d2/43/2bd63467490036697e7be71444fafc7b236923d614d4521979a200c6b559/matplotlib-3.3.3-cp36-cp36m-manylinux1_x86_64.whl (11.6MB)\n",
      "\u001b[K    100% |████████████████████████████████| 11.6MB 110kB/s ta 0:00:01\n",
      "\u001b[?25hCollecting numpy>=1.15 (from matplotlib)\n",
      "  Using cached https://files.pythonhosted.org/packages/a6/fc/36e52d0ae2aa502b211f1bcd2fdeec72d343d58224eabcdddc1bcb052db1/numpy-1.19.4-cp36-cp36m-manylinux1_x86_64.whl\n",
      "Collecting kiwisolver>=1.0.1 (from matplotlib)\n",
      "  Downloading https://files.pythonhosted.org/packages/a7/1b/cbd8ae738719b5f41592a12057ef5442e2ed5f5cb5451f8fc7e9f8875a1a/kiwisolver-1.3.1-cp36-cp36m-manylinux1_x86_64.whl (1.1MB)\n",
      "\u001b[K    100% |████████████████████████████████| 1.1MB 414kB/s ta 0:00:01\n",
      "\u001b[?25hCollecting pyparsing!=2.0.4,!=2.1.2,!=2.1.6,>=2.0.3 (from matplotlib)\n",
      "  Using cached https://files.pythonhosted.org/packages/8a/bb/488841f56197b13700afd5658fc279a2025a39e22449b7cf29864669b15d/pyparsing-2.4.7-py2.py3-none-any.whl\n",
      "Collecting cycler>=0.10 (from matplotlib)\n",
      "  Downloading https://files.pythonhosted.org/packages/f7/d2/e07d3ebb2bd7af696440ce7e754c59dd546ffe1bbe732c8ab68b9c834e61/cycler-0.10.0-py2.py3-none-any.whl\n",
      "Collecting python-dateutil>=2.1 (from matplotlib)\n",
      "  Using cached https://files.pythonhosted.org/packages/d4/70/d60450c3dd48ef87586924207ae8907090de0b306af2bce5d134d78615cb/python_dateutil-2.8.1-py2.py3-none-any.whl\n",
      "Collecting pillow>=6.2.0 (from matplotlib)\n",
      "  Downloading https://files.pythonhosted.org/packages/5f/19/d4c25111d36163698396f93c363114cf1cddbacb24744f6612f25b6aa3d0/Pillow-8.0.1-cp36-cp36m-manylinux1_x86_64.whl (2.2MB)\n",
      "\u001b[K    100% |████████████████████████████████| 2.2MB 371kB/s ta 0:00:01\n",
      "\u001b[?25hCollecting six (from cycler>=0.10->matplotlib)\n",
      "  Using cached https://files.pythonhosted.org/packages/ee/ff/48bde5c0f013094d729fe4b0316ba2a24774b3ff1c52d924a8a4cb04078a/six-1.15.0-py2.py3-none-any.whl\n",
      "Installing collected packages: numpy, kiwisolver, pyparsing, six, cycler, python-dateutil, pillow, matplotlib\n",
      "Successfully installed cycler-0.10.0 kiwisolver-1.3.1 matplotlib-3.3.3 numpy-1.19.4 pillow-8.0.1 pyparsing-2.4.7 python-dateutil-2.8.1 six-1.15.0\n"
     ]
    }
   ],
   "source": [
    "! pip3 install matplotlib"
   ]
  },
  {
   "cell_type": "markdown",
   "metadata": {
    "heading_collapsed": true
   },
   "source": [
    "## user input"
   ]
  },
  {
   "cell_type": "code",
   "execution_count": 13,
   "metadata": {
    "ExecuteTime": {
     "end_time": "2020-12-07T16:23:15.838252Z",
     "start_time": "2020-12-07T16:23:15.834764Z"
    },
    "code_folding": [],
    "hidden": true
   },
   "outputs": [],
   "source": [
    "basePath = '~/Documents/kagglai/'\n",
    "srcPath = 'src'\n",
    "dataPath = 'dat'\n",
    "\n",
    "'''\n",
    "projectName = 'melbourne_housing_snapshot'\n",
    "rawInputPath = 'melb_data.csv'\n",
    "'''\n",
    "projectName = 'titanic'\n",
    "trainInputPath = 'train.csv'\n",
    "testDataPath = 'test.csv'\n",
    "sampleOutputPath = 'gender_submission.csv'\n",
    "\n",
    "randomSeed = 0"
   ]
  },
  {
   "cell_type": "markdown",
   "metadata": {},
   "source": [
    "## dependencies"
   ]
  },
  {
   "cell_type": "code",
   "execution_count": 5,
   "metadata": {
    "ExecuteTime": {
     "end_time": "2020-12-07T16:21:02.783635Z",
     "start_time": "2020-12-07T16:21:02.778264Z"
    }
   },
   "outputs": [],
   "source": [
    "# general\n",
    "import os\n",
    "import datetime\n",
    "from operator import itemgetter\n",
    "\n",
    "# data manipulation\n",
    "import pandas as pd\n",
    "import numpy as np\n",
    "\n",
    "# modeling\n",
    "from sklearn.model_selection import train_test_split\n",
    "\n",
    "# models\n",
    "from sklearn.tree import DecisionTreeRegressor\n",
    "from sklearn.ensemble import RandomForestRegressor\n",
    "\n",
    "# metrics\n",
    "from sklearn.metrics import mean_absolute_error, mean_squared_log_error\n",
    "\n",
    "# hyper-parameter tuning\n",
    "from sklearn.model_selection import cross_val_score\n",
    "from skopt.space import Real, Integer\n",
    "from skopt.utils import use_named_args\n",
    "from skopt import gp_minimize\n",
    "\n",
    "# visualization\n",
    "from matplotlib import pyplot as plt\n",
    "from skopt.plots import plot_convergence"
   ]
  },
  {
   "cell_type": "markdown",
   "metadata": {
    "heading_collapsed": true
   },
   "source": [
    "## initialization"
   ]
  },
  {
   "cell_type": "code",
   "execution_count": 14,
   "metadata": {
    "ExecuteTime": {
     "end_time": "2020-12-07T16:23:56.507799Z",
     "start_time": "2020-12-07T16:23:56.497259Z"
    },
    "hidden": true
   },
   "outputs": [],
   "source": [
    "### Initialization\n",
    "BASE_DIRECTORY = os.path.dirname(basePath)\n",
    "CODE_DIRECTORY = os.path.join(BASE_DIRECTORY, srcPath)\n",
    "DATA_DIRECTORY = os.path.join(BASE_DIRECTORY, dataPath)\n",
    "\n",
    "PROJECT_DIRECTORY = os.path.join(DATA_DIRECTORY, projectName)\n",
    "IN_DIRECTORY = os.path.join(PROJECT_DIRECTORY, 'in')\n",
    "OUT_DIRECTORY = os.path.join(PROJECT_DIRECTORY, 'out')\n",
    "RAW_TRAIN_PATH = os.path.join(IN_DIRECTORY, trainInputPath)\n",
    "RAW_TEST_PATH = os.path.join(IN_DIRECTORY, testDataPath)\n",
    "RAW_SAMPLE_PATH = os.path.join(IN_DIRECTORY, sampleOutputPath)\n",
    "\n",
    "\n",
    "\n",
    "X_TST_PATH = os.path.join(IN_DIRECTORY, 'x_tst.feather')\n",
    "X_TRN_PATH = os.path.join(IN_DIRECTORY, 'x_trn.feather')\n",
    "Y_TST_PATH = os.path.join(IN_DIRECTORY, 'y_tst.feather')\n",
    "Y_TRN_PATH = os.path.join(IN_DIRECTORY, 'y_trn.feather')"
   ]
  },
  {
   "cell_type": "code",
   "execution_count": null,
   "metadata": {
    "hidden": true
   },
   "outputs": [],
   "source": []
  },
  {
   "cell_type": "markdown",
   "metadata": {},
   "source": [
    "## custom classes and functions"
   ]
  },
  {
   "cell_type": "code",
   "execution_count": 15,
   "metadata": {
    "ExecuteTime": {
     "end_time": "2020-12-07T16:24:04.862508Z",
     "start_time": "2020-12-07T16:24:04.854570Z"
    }
   },
   "outputs": [],
   "source": [
    "def spit_data(data, yName, randomSeed=0):\n",
    "    x = rawDataframe.drop(yName, axis=1)\n",
    "    y = rawDataframe[yName]\n",
    "    train_x, test_x, train_y, test_y = train_test_split(x, y, random_state = randomSeed)\n",
    "    test_y.to_frame().reset_index().to_feather(Y_TST_PATH)\n",
    "    test_x.reset_index().to_feather(X_TST_PATH)\n",
    "    train_y.to_frame().reset_index().to_feather(Y_TRN_PATH)\n",
    "    train_x.reset_index().to_feather(X_TRN_PATH)    "
   ]
  },
  {
   "cell_type": "code",
   "execution_count": 16,
   "metadata": {
    "ExecuteTime": {
     "end_time": "2020-12-07T16:24:05.010375Z",
     "start_time": "2020-12-07T16:24:05.006002Z"
    }
   },
   "outputs": [],
   "source": [
    "def get_mae(model, x_trn, x_val, y_trn, y_val):\n",
    "    model.fit(x_trn, y_trn)\n",
    "    y_p_val = model.predict(x_val)\n",
    "    y_p_trn = model.predict(x_trn)\n",
    "    mae_trn = mean_absolute_error(y_trn, y_p_trn)\n",
    "    mae_val = mean_absolute_error(y_val, y_p_val)\n",
    "    return mae_trn, mae_val\n"
   ]
  },
  {
   "cell_type": "code",
   "execution_count": 17,
   "metadata": {
    "ExecuteTime": {
     "end_time": "2020-12-07T16:24:05.154096Z",
     "start_time": "2020-12-07T16:24:05.149192Z"
    }
   },
   "outputs": [],
   "source": [
    "def log_spaced_int_list(start=0.1, end=3, nPoints=50, multFactor=5):\n",
    "    l = list(multFactor*np.logspace(start, end, nPoints, endpoint=True))\n",
    "    l = [int(i) for i in l]\n",
    "    l = list(dict.fromkeys(l))\n",
    "    if 0 in l:\n",
    "        l.remove(0)\n",
    "    if 1 in l:\n",
    "        l.remove(1)\n",
    "    return l"
   ]
  },
  {
   "cell_type": "code",
   "execution_count": 18,
   "metadata": {
    "ExecuteTime": {
     "end_time": "2020-12-07T16:24:05.306870Z",
     "start_time": "2020-12-07T16:24:05.303688Z"
    }
   },
   "outputs": [],
   "source": [
    "def feature_engineering(x, y):\n",
    "    melbourne_features = ['Rooms', 'Bathroom', 'Landsize', 'Lattitude', 'Longtitude']\n",
    "    x = x[melbourne_features]\n",
    "    return x, y\n"
   ]
  },
  {
   "cell_type": "code",
   "execution_count": 19,
   "metadata": {
    "ExecuteTime": {
     "end_time": "2020-12-07T16:24:05.481280Z",
     "start_time": "2020-12-07T16:24:05.475253Z"
    }
   },
   "outputs": [],
   "source": [
    "def rf_hyperopt_randomsearch():\n",
    "    rf = RandomForestRegressor(n_estimators=100, criterion='mse', max_depth=200,random_state=randomSeed, oob_score=True)\n",
    "    distributions = dict(n_estimators = [50,100,150], \n",
    "                         max_features =  [\"auto\", \"sqrt\", \"log2\"],\n",
    "                         max_depth=[50,100,200],\n",
    "                         oob_score=[True],\n",
    "                         min_samples_leaf=[20,50,100])\n",
    "\n",
    "    search_rf = RandomizedSearchCV(rf, distributions, random_state=0)\n",
    "    search = search_rf.fit(x, y)\n",
    "    search.best_params_"
   ]
  },
  {
   "cell_type": "code",
   "execution_count": 20,
   "metadata": {
    "ExecuteTime": {
     "end_time": "2020-12-07T16:24:06.246359Z",
     "start_time": "2020-12-07T16:24:06.238827Z"
    }
   },
   "outputs": [],
   "source": [
    "def skot_hyperopt(space, model, x, y):\n",
    "    @use_named_args(space)\n",
    "    def objective(**params):\n",
    "        model.set_params(**params)\n",
    "\n",
    "        return -np.mean(cross_val_score(model, x, y, cv=5, n_jobs=-1,\n",
    "                                        scoring=\"neg_mean_absolute_error\"))\n",
    "    res_gp = gp_minimize(objective, space, n_calls=50, random_state=0)\n",
    "    return res_gp"
   ]
  },
  {
   "cell_type": "markdown",
   "metadata": {},
   "source": [
    "# data prep"
   ]
  },
  {
   "cell_type": "markdown",
   "metadata": {
    "heading_collapsed": true
   },
   "source": [
    "## data input"
   ]
  },
  {
   "cell_type": "code",
   "execution_count": 21,
   "metadata": {
    "ExecuteTime": {
     "end_time": "2020-12-07T16:24:50.295263Z",
     "start_time": "2020-12-07T16:24:50.281199Z"
    },
    "hidden": true
   },
   "outputs": [],
   "source": [
    "rawDataframe = pd.read_csv(RAW_TRAIN_PATH)\n"
   ]
  },
  {
   "cell_type": "code",
   "execution_count": 22,
   "metadata": {
    "ExecuteTime": {
     "end_time": "2020-12-07T16:24:59.188849Z",
     "start_time": "2020-12-07T16:24:59.167287Z"
    },
    "hidden": true
   },
   "outputs": [
    {
     "data": {
      "text/html": [
       "<div>\n",
       "<style scoped>\n",
       "    .dataframe tbody tr th:only-of-type {\n",
       "        vertical-align: middle;\n",
       "    }\n",
       "\n",
       "    .dataframe tbody tr th {\n",
       "        vertical-align: top;\n",
       "    }\n",
       "\n",
       "    .dataframe thead th {\n",
       "        text-align: right;\n",
       "    }\n",
       "</style>\n",
       "<table border=\"1\" class=\"dataframe\">\n",
       "  <thead>\n",
       "    <tr style=\"text-align: right;\">\n",
       "      <th></th>\n",
       "      <th>PassengerId</th>\n",
       "      <th>Survived</th>\n",
       "      <th>Pclass</th>\n",
       "      <th>Name</th>\n",
       "      <th>Sex</th>\n",
       "      <th>Age</th>\n",
       "      <th>SibSp</th>\n",
       "      <th>Parch</th>\n",
       "      <th>Ticket</th>\n",
       "      <th>Fare</th>\n",
       "      <th>Cabin</th>\n",
       "      <th>Embarked</th>\n",
       "    </tr>\n",
       "  </thead>\n",
       "  <tbody>\n",
       "    <tr>\n",
       "      <th>0</th>\n",
       "      <td>1</td>\n",
       "      <td>0</td>\n",
       "      <td>3</td>\n",
       "      <td>Braund, Mr. Owen Harris</td>\n",
       "      <td>male</td>\n",
       "      <td>22.0</td>\n",
       "      <td>1</td>\n",
       "      <td>0</td>\n",
       "      <td>A/5 21171</td>\n",
       "      <td>7.2500</td>\n",
       "      <td>NaN</td>\n",
       "      <td>S</td>\n",
       "    </tr>\n",
       "    <tr>\n",
       "      <th>1</th>\n",
       "      <td>2</td>\n",
       "      <td>1</td>\n",
       "      <td>1</td>\n",
       "      <td>Cumings, Mrs. John Bradley (Florence Briggs Th...</td>\n",
       "      <td>female</td>\n",
       "      <td>38.0</td>\n",
       "      <td>1</td>\n",
       "      <td>0</td>\n",
       "      <td>PC 17599</td>\n",
       "      <td>71.2833</td>\n",
       "      <td>C85</td>\n",
       "      <td>C</td>\n",
       "    </tr>\n",
       "    <tr>\n",
       "      <th>2</th>\n",
       "      <td>3</td>\n",
       "      <td>1</td>\n",
       "      <td>3</td>\n",
       "      <td>Heikkinen, Miss. Laina</td>\n",
       "      <td>female</td>\n",
       "      <td>26.0</td>\n",
       "      <td>0</td>\n",
       "      <td>0</td>\n",
       "      <td>STON/O2. 3101282</td>\n",
       "      <td>7.9250</td>\n",
       "      <td>NaN</td>\n",
       "      <td>S</td>\n",
       "    </tr>\n",
       "    <tr>\n",
       "      <th>3</th>\n",
       "      <td>4</td>\n",
       "      <td>1</td>\n",
       "      <td>1</td>\n",
       "      <td>Futrelle, Mrs. Jacques Heath (Lily May Peel)</td>\n",
       "      <td>female</td>\n",
       "      <td>35.0</td>\n",
       "      <td>1</td>\n",
       "      <td>0</td>\n",
       "      <td>113803</td>\n",
       "      <td>53.1000</td>\n",
       "      <td>C123</td>\n",
       "      <td>S</td>\n",
       "    </tr>\n",
       "    <tr>\n",
       "      <th>4</th>\n",
       "      <td>5</td>\n",
       "      <td>0</td>\n",
       "      <td>3</td>\n",
       "      <td>Allen, Mr. William Henry</td>\n",
       "      <td>male</td>\n",
       "      <td>35.0</td>\n",
       "      <td>0</td>\n",
       "      <td>0</td>\n",
       "      <td>373450</td>\n",
       "      <td>8.0500</td>\n",
       "      <td>NaN</td>\n",
       "      <td>S</td>\n",
       "    </tr>\n",
       "  </tbody>\n",
       "</table>\n",
       "</div>"
      ],
      "text/plain": [
       "   PassengerId  Survived  Pclass  \\\n",
       "0            1         0       3   \n",
       "1            2         1       1   \n",
       "2            3         1       3   \n",
       "3            4         1       1   \n",
       "4            5         0       3   \n",
       "\n",
       "                                                Name     Sex   Age  SibSp  \\\n",
       "0                            Braund, Mr. Owen Harris    male  22.0      1   \n",
       "1  Cumings, Mrs. John Bradley (Florence Briggs Th...  female  38.0      1   \n",
       "2                             Heikkinen, Miss. Laina  female  26.0      0   \n",
       "3       Futrelle, Mrs. Jacques Heath (Lily May Peel)  female  35.0      1   \n",
       "4                           Allen, Mr. William Henry    male  35.0      0   \n",
       "\n",
       "   Parch            Ticket     Fare Cabin Embarked  \n",
       "0      0         A/5 21171   7.2500   NaN        S  \n",
       "1      0          PC 17599  71.2833   C85        C  \n",
       "2      0  STON/O2. 3101282   7.9250   NaN        S  \n",
       "3      0            113803  53.1000  C123        S  \n",
       "4      0            373450   8.0500   NaN        S  "
      ]
     },
     "execution_count": 22,
     "metadata": {},
     "output_type": "execute_result"
    }
   ],
   "source": [
    "rawDataframe.head()"
   ]
  },
  {
   "cell_type": "code",
   "execution_count": 23,
   "metadata": {
    "ExecuteTime": {
     "end_time": "2020-12-07T16:25:15.330215Z",
     "start_time": "2020-12-07T16:25:15.289907Z"
    },
    "hidden": true
   },
   "outputs": [],
   "source": [
    "yName = 'Survived'\n",
    "spit_data(rawDataframe, yName, randomSeed)"
   ]
  },
  {
   "cell_type": "code",
   "execution_count": 24,
   "metadata": {
    "ExecuteTime": {
     "end_time": "2020-12-07T16:25:18.133598Z",
     "start_time": "2020-12-07T16:25:18.118291Z"
    },
    "hidden": true
   },
   "outputs": [],
   "source": [
    "x = pd.read_feather(X_TRN_PATH)\n",
    "y = pd.read_feather(Y_TRN_PATH)\n",
    "xy = pd.concat([x,y],axis=1,sort=False)"
   ]
  },
  {
   "cell_type": "markdown",
   "metadata": {
    "heading_collapsed": true
   },
   "source": [
    "## exploratory data analysis"
   ]
  },
  {
   "cell_type": "code",
   "execution_count": 25,
   "metadata": {
    "ExecuteTime": {
     "end_time": "2020-12-07T16:25:43.592218Z",
     "start_time": "2020-12-07T16:25:43.571680Z"
    },
    "hidden": true
   },
   "outputs": [
    {
     "data": {
      "text/html": [
       "<div>\n",
       "<style scoped>\n",
       "    .dataframe tbody tr th:only-of-type {\n",
       "        vertical-align: middle;\n",
       "    }\n",
       "\n",
       "    .dataframe tbody tr th {\n",
       "        vertical-align: top;\n",
       "    }\n",
       "\n",
       "    .dataframe thead th {\n",
       "        text-align: right;\n",
       "    }\n",
       "</style>\n",
       "<table border=\"1\" class=\"dataframe\">\n",
       "  <thead>\n",
       "    <tr style=\"text-align: right;\">\n",
       "      <th></th>\n",
       "      <th>index</th>\n",
       "      <th>PassengerId</th>\n",
       "      <th>Pclass</th>\n",
       "      <th>Name</th>\n",
       "      <th>Sex</th>\n",
       "      <th>Age</th>\n",
       "      <th>SibSp</th>\n",
       "      <th>Parch</th>\n",
       "      <th>Ticket</th>\n",
       "      <th>Fare</th>\n",
       "      <th>Cabin</th>\n",
       "      <th>Embarked</th>\n",
       "      <th>index</th>\n",
       "      <th>Survived</th>\n",
       "    </tr>\n",
       "  </thead>\n",
       "  <tbody>\n",
       "    <tr>\n",
       "      <th>0</th>\n",
       "      <td>105</td>\n",
       "      <td>106</td>\n",
       "      <td>3</td>\n",
       "      <td>Mionoff, Mr. Stoytcho</td>\n",
       "      <td>male</td>\n",
       "      <td>28.0</td>\n",
       "      <td>0</td>\n",
       "      <td>0</td>\n",
       "      <td>349207</td>\n",
       "      <td>7.8958</td>\n",
       "      <td>None</td>\n",
       "      <td>S</td>\n",
       "      <td>105</td>\n",
       "      <td>0</td>\n",
       "    </tr>\n",
       "    <tr>\n",
       "      <th>1</th>\n",
       "      <td>68</td>\n",
       "      <td>69</td>\n",
       "      <td>3</td>\n",
       "      <td>Andersson, Miss. Erna Alexandra</td>\n",
       "      <td>female</td>\n",
       "      <td>17.0</td>\n",
       "      <td>4</td>\n",
       "      <td>2</td>\n",
       "      <td>3101281</td>\n",
       "      <td>7.9250</td>\n",
       "      <td>None</td>\n",
       "      <td>S</td>\n",
       "      <td>68</td>\n",
       "      <td>1</td>\n",
       "    </tr>\n",
       "    <tr>\n",
       "      <th>2</th>\n",
       "      <td>253</td>\n",
       "      <td>254</td>\n",
       "      <td>3</td>\n",
       "      <td>Lobb, Mr. William Arthur</td>\n",
       "      <td>male</td>\n",
       "      <td>30.0</td>\n",
       "      <td>1</td>\n",
       "      <td>0</td>\n",
       "      <td>A/5. 3336</td>\n",
       "      <td>16.1000</td>\n",
       "      <td>None</td>\n",
       "      <td>S</td>\n",
       "      <td>253</td>\n",
       "      <td>0</td>\n",
       "    </tr>\n",
       "    <tr>\n",
       "      <th>3</th>\n",
       "      <td>320</td>\n",
       "      <td>321</td>\n",
       "      <td>3</td>\n",
       "      <td>Dennis, Mr. Samuel</td>\n",
       "      <td>male</td>\n",
       "      <td>22.0</td>\n",
       "      <td>0</td>\n",
       "      <td>0</td>\n",
       "      <td>A/5 21172</td>\n",
       "      <td>7.2500</td>\n",
       "      <td>None</td>\n",
       "      <td>S</td>\n",
       "      <td>320</td>\n",
       "      <td>0</td>\n",
       "    </tr>\n",
       "    <tr>\n",
       "      <th>4</th>\n",
       "      <td>706</td>\n",
       "      <td>707</td>\n",
       "      <td>2</td>\n",
       "      <td>Kelly, Mrs. Florence \"Fannie\"</td>\n",
       "      <td>female</td>\n",
       "      <td>45.0</td>\n",
       "      <td>0</td>\n",
       "      <td>0</td>\n",
       "      <td>223596</td>\n",
       "      <td>13.5000</td>\n",
       "      <td>None</td>\n",
       "      <td>S</td>\n",
       "      <td>706</td>\n",
       "      <td>1</td>\n",
       "    </tr>\n",
       "  </tbody>\n",
       "</table>\n",
       "</div>"
      ],
      "text/plain": [
       "   index  PassengerId  Pclass                             Name     Sex   Age  \\\n",
       "0    105          106       3            Mionoff, Mr. Stoytcho    male  28.0   \n",
       "1     68           69       3  Andersson, Miss. Erna Alexandra  female  17.0   \n",
       "2    253          254       3         Lobb, Mr. William Arthur    male  30.0   \n",
       "3    320          321       3               Dennis, Mr. Samuel    male  22.0   \n",
       "4    706          707       2    Kelly, Mrs. Florence \"Fannie\"  female  45.0   \n",
       "\n",
       "   SibSp  Parch     Ticket     Fare Cabin Embarked  index  Survived  \n",
       "0      0      0     349207   7.8958  None        S    105         0  \n",
       "1      4      2    3101281   7.9250  None        S     68         1  \n",
       "2      1      0  A/5. 3336  16.1000  None        S    253         0  \n",
       "3      0      0  A/5 21172   7.2500  None        S    320         0  \n",
       "4      0      0     223596  13.5000  None        S    706         1  "
      ]
     },
     "execution_count": 25,
     "metadata": {},
     "output_type": "execute_result"
    }
   ],
   "source": [
    "xy.head()"
   ]
  },
  {
   "cell_type": "code",
   "execution_count": 26,
   "metadata": {
    "ExecuteTime": {
     "end_time": "2020-12-07T16:25:46.467334Z",
     "start_time": "2020-12-07T16:25:46.418970Z"
    },
    "hidden": true,
    "scrolled": true
   },
   "outputs": [
    {
     "data": {
      "text/html": [
       "<div>\n",
       "<style scoped>\n",
       "    .dataframe tbody tr th:only-of-type {\n",
       "        vertical-align: middle;\n",
       "    }\n",
       "\n",
       "    .dataframe tbody tr th {\n",
       "        vertical-align: top;\n",
       "    }\n",
       "\n",
       "    .dataframe thead th {\n",
       "        text-align: right;\n",
       "    }\n",
       "</style>\n",
       "<table border=\"1\" class=\"dataframe\">\n",
       "  <thead>\n",
       "    <tr style=\"text-align: right;\">\n",
       "      <th></th>\n",
       "      <th>index</th>\n",
       "      <th>PassengerId</th>\n",
       "      <th>Pclass</th>\n",
       "      <th>Age</th>\n",
       "      <th>SibSp</th>\n",
       "      <th>Parch</th>\n",
       "      <th>Fare</th>\n",
       "      <th>index</th>\n",
       "      <th>Survived</th>\n",
       "    </tr>\n",
       "  </thead>\n",
       "  <tbody>\n",
       "    <tr>\n",
       "      <th>count</th>\n",
       "      <td>668.000000</td>\n",
       "      <td>668.000000</td>\n",
       "      <td>668.000000</td>\n",
       "      <td>535.000000</td>\n",
       "      <td>668.000000</td>\n",
       "      <td>668.000000</td>\n",
       "      <td>668.000000</td>\n",
       "      <td>668.000000</td>\n",
       "      <td>668.000000</td>\n",
       "    </tr>\n",
       "    <tr>\n",
       "      <th>mean</th>\n",
       "      <td>444.911677</td>\n",
       "      <td>445.911677</td>\n",
       "      <td>2.305389</td>\n",
       "      <td>29.900000</td>\n",
       "      <td>0.534431</td>\n",
       "      <td>0.392216</td>\n",
       "      <td>32.373621</td>\n",
       "      <td>444.911677</td>\n",
       "      <td>0.386228</td>\n",
       "    </tr>\n",
       "    <tr>\n",
       "      <th>std</th>\n",
       "      <td>259.966783</td>\n",
       "      <td>259.966783</td>\n",
       "      <td>0.837377</td>\n",
       "      <td>14.487993</td>\n",
       "      <td>1.161739</td>\n",
       "      <td>0.822509</td>\n",
       "      <td>50.632021</td>\n",
       "      <td>259.966783</td>\n",
       "      <td>0.487249</td>\n",
       "    </tr>\n",
       "    <tr>\n",
       "      <th>min</th>\n",
       "      <td>0.000000</td>\n",
       "      <td>1.000000</td>\n",
       "      <td>1.000000</td>\n",
       "      <td>0.670000</td>\n",
       "      <td>0.000000</td>\n",
       "      <td>0.000000</td>\n",
       "      <td>0.000000</td>\n",
       "      <td>0.000000</td>\n",
       "      <td>0.000000</td>\n",
       "    </tr>\n",
       "    <tr>\n",
       "      <th>25%</th>\n",
       "      <td>215.250000</td>\n",
       "      <td>216.250000</td>\n",
       "      <td>2.000000</td>\n",
       "      <td>21.000000</td>\n",
       "      <td>0.000000</td>\n",
       "      <td>0.000000</td>\n",
       "      <td>7.925000</td>\n",
       "      <td>215.250000</td>\n",
       "      <td>0.000000</td>\n",
       "    </tr>\n",
       "    <tr>\n",
       "      <th>50%</th>\n",
       "      <td>444.500000</td>\n",
       "      <td>445.500000</td>\n",
       "      <td>3.000000</td>\n",
       "      <td>29.000000</td>\n",
       "      <td>0.000000</td>\n",
       "      <td>0.000000</td>\n",
       "      <td>14.500000</td>\n",
       "      <td>444.500000</td>\n",
       "      <td>0.000000</td>\n",
       "    </tr>\n",
       "    <tr>\n",
       "      <th>75%</th>\n",
       "      <td>673.500000</td>\n",
       "      <td>674.500000</td>\n",
       "      <td>3.000000</td>\n",
       "      <td>38.000000</td>\n",
       "      <td>1.000000</td>\n",
       "      <td>0.000000</td>\n",
       "      <td>31.275000</td>\n",
       "      <td>673.500000</td>\n",
       "      <td>1.000000</td>\n",
       "    </tr>\n",
       "    <tr>\n",
       "      <th>max</th>\n",
       "      <td>889.000000</td>\n",
       "      <td>890.000000</td>\n",
       "      <td>3.000000</td>\n",
       "      <td>80.000000</td>\n",
       "      <td>8.000000</td>\n",
       "      <td>6.000000</td>\n",
       "      <td>512.329200</td>\n",
       "      <td>889.000000</td>\n",
       "      <td>1.000000</td>\n",
       "    </tr>\n",
       "  </tbody>\n",
       "</table>\n",
       "</div>"
      ],
      "text/plain": [
       "            index  PassengerId      Pclass         Age       SibSp  \\\n",
       "count  668.000000   668.000000  668.000000  535.000000  668.000000   \n",
       "mean   444.911677   445.911677    2.305389   29.900000    0.534431   \n",
       "std    259.966783   259.966783    0.837377   14.487993    1.161739   \n",
       "min      0.000000     1.000000    1.000000    0.670000    0.000000   \n",
       "25%    215.250000   216.250000    2.000000   21.000000    0.000000   \n",
       "50%    444.500000   445.500000    3.000000   29.000000    0.000000   \n",
       "75%    673.500000   674.500000    3.000000   38.000000    1.000000   \n",
       "max    889.000000   890.000000    3.000000   80.000000    8.000000   \n",
       "\n",
       "            Parch        Fare       index    Survived  \n",
       "count  668.000000  668.000000  668.000000  668.000000  \n",
       "mean     0.392216   32.373621  444.911677    0.386228  \n",
       "std      0.822509   50.632021  259.966783    0.487249  \n",
       "min      0.000000    0.000000    0.000000    0.000000  \n",
       "25%      0.000000    7.925000  215.250000    0.000000  \n",
       "50%      0.000000   14.500000  444.500000    0.000000  \n",
       "75%      0.000000   31.275000  673.500000    1.000000  \n",
       "max      6.000000  512.329200  889.000000    1.000000  "
      ]
     },
     "execution_count": 26,
     "metadata": {},
     "output_type": "execute_result"
    }
   ],
   "source": [
    "xy.describe()"
   ]
  },
  {
   "cell_type": "markdown",
   "metadata": {
    "heading_collapsed": true
   },
   "source": [
    "## pre-process"
   ]
  },
  {
   "cell_type": "code",
   "execution_count": null,
   "metadata": {
    "hidden": true
   },
   "outputs": [],
   "source": []
  },
  {
   "cell_type": "markdown",
   "metadata": {
    "heading_collapsed": true
   },
   "source": [
    "## feature engineer"
   ]
  },
  {
   "cell_type": "code",
   "execution_count": 14,
   "metadata": {
    "ExecuteTime": {
     "end_time": "2020-12-06T17:04:51.801173Z",
     "start_time": "2020-12-06T17:04:51.796842Z"
    },
    "hidden": true
   },
   "outputs": [],
   "source": [
    "x, y = feature_engineering(x, y)"
   ]
  },
  {
   "cell_type": "markdown",
   "metadata": {},
   "source": [
    "## data check"
   ]
  },
  {
   "cell_type": "code",
   "execution_count": null,
   "metadata": {},
   "outputs": [],
   "source": [
    "# data leakage\n",
    "# train-serving skew\n",
    "# high correlations"
   ]
  },
  {
   "cell_type": "markdown",
   "metadata": {},
   "source": [
    "# baseline"
   ]
  },
  {
   "cell_type": "markdown",
   "metadata": {},
   "source": [
    "# automl"
   ]
  },
  {
   "cell_type": "markdown",
   "metadata": {},
   "source": [
    "# select model"
   ]
  },
  {
   "cell_type": "code",
   "execution_count": null,
   "metadata": {},
   "outputs": [],
   "source": []
  },
  {
   "cell_type": "markdown",
   "metadata": {},
   "source": [
    "# train"
   ]
  },
  {
   "cell_type": "code",
   "execution_count": 12,
   "metadata": {},
   "outputs": [],
   "source": [
    "x_trn, x_val, y_trn, y_val = train_test_split(x, y, random_state = randomSeed)"
   ]
  },
  {
   "cell_type": "code",
   "execution_count": 13,
   "metadata": {},
   "outputs": [
    {
     "data": {
      "text/plain": [
       "((7638, 5), (2547, 5))"
      ]
     },
     "execution_count": 13,
     "metadata": {},
     "output_type": "execute_result"
    }
   ],
   "source": [
    "x_trn.shape,x_val.shape"
   ]
  },
  {
   "cell_type": "code",
   "execution_count": 64,
   "metadata": {
    "ExecuteTime": {
     "end_time": "2020-12-06T15:01:11.533428Z",
     "start_time": "2020-12-06T15:01:11.472267Z"
    }
   },
   "outputs": [
    {
     "name": "stdout",
     "output_type": "stream",
     "text": [
      "357.1749258095487 124854.3591643764 348.5608178020612\n"
     ]
    }
   ],
   "source": [
    "# Decision Tree\n",
    "dtr = DecisionTreeRegressor(random_state=randomSeed)\n",
    "dtr.fit(x_trn, y_trn)"
   ]
  },
  {
   "cell_type": "code",
   "execution_count": 66,
   "metadata": {
    "ExecuteTime": {
     "end_time": "2020-12-06T15:02:36.826532Z",
     "start_time": "2020-12-06T15:02:34.563048Z"
    }
   },
   "outputs": [
    {
     "name": "stdout",
     "output_type": "stream",
     "text": [
      "34784.93945028174 93615.52314354338 1.691265950810363\n"
     ]
    }
   ],
   "source": [
    "# Random Forest\n",
    "rf = RandomForestRegressor(random_state=randomSeed)\n",
    "rf.fit(x_trn, y_trn)"
   ]
  },
  {
   "cell_type": "markdown",
   "metadata": {},
   "source": [
    "# evaluate"
   ]
  },
  {
   "cell_type": "code",
   "execution_count": null,
   "metadata": {},
   "outputs": [],
   "source": [
    "# decision tree\n",
    "y_p_trn = dtr.predict(x_trn)\n",
    "y_p_val = dtr.predict(x_val)\n",
    "\n",
    "mae_trn = mean_absolute_error(y_p_trn, y_trn)\n",
    "mae_val = mean_absolute_error(y_p_val, y_val)\n",
    "diff = mae_val - mae_trn\n",
    "ratio = diff/mae_trn\n",
    "print(mae_trn, mae_val, ratio )"
   ]
  },
  {
   "cell_type": "code",
   "execution_count": null,
   "metadata": {},
   "outputs": [],
   "source": [
    "# random forest\n",
    "y_p_trn = rf.predict(x_trn)\n",
    "y_p_val = rf.predict(x_val)\n",
    "\n",
    "mae_trn = mean_absolute_error(y_p_trn, y_trn)\n",
    "mae_val = mean_absolute_error(y_p_val, y_val)\n",
    "\n",
    "diff = mae_val - mae_trn\n",
    "ratio = diff/mae_trn\n",
    "print(mae_trn, mae_val, ratio )"
   ]
  },
  {
   "cell_type": "code",
   "execution_count": 2,
   "metadata": {
    "ExecuteTime": {
     "end_time": "2020-12-07T12:59:31.413266Z",
     "start_time": "2020-12-07T12:59:31.408902Z"
    }
   },
   "outputs": [
    {
     "data": {
      "text/plain": [
       "'\\nscore\\nprecision\\nrecall\\nAUC PR\\nAUC ROC\\n'"
      ]
     },
     "execution_count": 2,
     "metadata": {},
     "output_type": "execute_result"
    }
   ],
   "source": [
    "# classification\n",
    "'''\n",
    "score\n",
    "precision\n",
    "recall\n",
    "AUC PR\n",
    "AUC ROC\n",
    "Accuracy\n",
    "Log loss\n",
    "F1\n",
    "'''"
   ]
  },
  {
   "cell_type": "code",
   "execution_count": 3,
   "metadata": {
    "ExecuteTime": {
     "end_time": "2020-12-07T12:59:56.623150Z",
     "start_time": "2020-12-07T12:59:56.618712Z"
    }
   },
   "outputs": [
    {
     "data": {
      "text/plain": [
       "'\\nMAE\\n'"
      ]
     },
     "execution_count": 3,
     "metadata": {},
     "output_type": "execute_result"
    }
   ],
   "source": [
    "# regression\n",
    "'''\n",
    "MAE\n",
    "RMSE\n",
    "RMSLE\n",
    "'''"
   ]
  },
  {
   "cell_type": "markdown",
   "metadata": {},
   "source": [
    "# tune"
   ]
  },
  {
   "cell_type": "code",
   "execution_count": 57,
   "metadata": {
    "ExecuteTime": {
     "end_time": "2020-12-06T17:51:15.863121Z",
     "start_time": "2020-12-06T17:50:22.414156Z"
    }
   },
   "outputs": [
    {
     "name": "stderr",
     "output_type": "stream",
     "text": [
      "/home/alex/.local/lib/python3.6/site-packages/skopt/optimizer/optimizer.py:449: UserWarning: The objective has been evaluated at this point before.\n",
      "  warnings.warn(\"The objective has been evaluated \"\n",
      "/home/alex/.local/lib/python3.6/site-packages/skopt/optimizer/optimizer.py:449: UserWarning: The objective has been evaluated at this point before.\n",
      "  warnings.warn(\"The objective has been evaluated \"\n",
      "/home/alex/.local/lib/python3.6/site-packages/skopt/optimizer/optimizer.py:449: UserWarning: The objective has been evaluated at this point before.\n",
      "  warnings.warn(\"The objective has been evaluated \"\n",
      "/home/alex/.local/lib/python3.6/site-packages/skopt/optimizer/optimizer.py:449: UserWarning: The objective has been evaluated at this point before.\n",
      "  warnings.warn(\"The objective has been evaluated \"\n"
     ]
    }
   ],
   "source": [
    "dtr = DecisionTreeRegressor(max_depth=None,\n",
    "                            max_leaf_nodes=700,\n",
    "                            min_samples_split=2,\n",
    "                            min_samples_leaf=1)\n",
    "\n",
    "space  = [  Integer(50, 2000, name='max_depth'),\n",
    "            Integer(50, 1500, name='max_leaf_nodes'),\n",
    "            Integer(2, 50, name='min_samples_split'),\n",
    "            Integer(1, 50, name='min_samples_leaf')\n",
    "         ]\n",
    "\n",
    "res_gp = skot_hyperopt(space, dtr, x, y)"
   ]
  },
  {
   "cell_type": "code",
   "execution_count": 58,
   "metadata": {
    "ExecuteTime": {
     "end_time": "2020-12-06T17:51:16.055805Z",
     "start_time": "2020-12-06T17:51:15.865497Z"
    }
   },
   "outputs": [
    {
     "name": "stdout",
     "output_type": "stream",
     "text": [
      "Best score=110144.6802\n",
      "Best parameters:\n",
      "max_depth=1152\n",
      "max_leaf_nodes=1246\n",
      "min_samples_split=16\n",
      "min_samples_leaf=8\n",
      "\n"
     ]
    },
    {
     "data": {
      "text/plain": [
       "<AxesSubplot:title={'center':'Convergence plot'}, xlabel='Number of calls $n$', ylabel='$\\\\min f(x)$ after $n$ calls'>"
      ]
     },
     "execution_count": 58,
     "metadata": {},
     "output_type": "execute_result"
    },
    {
     "data": {
      "image/png": "[encoded data removed]",
      "text/plain": [
       "<Figure size 432x288 with 1 Axes>"
      ]
     },
     "metadata": {
      "needs_background": "light"
     },
     "output_type": "display_data"
    }
   ],
   "source": [
    "print(\"Best score=%.4f\" % res_gp.fun)\n",
    "print(\"\"\"Best parameters:\n",
    "max_depth=%d\n",
    "max_leaf_nodes=%d\n",
    "min_samples_split=%d\n",
    "min_samples_leaf=%d\n",
    "\"\"\" % (res_gp.x[0], res_gp.x[1],\n",
    "                            res_gp.x[2], res_gp.x[3]))\n",
    "plot_convergence(res_gp)"
   ]
  },
  {
   "cell_type": "code",
   "execution_count": 27,
   "metadata": {
    "ExecuteTime": {
     "end_time": "2020-12-06T17:22:03.730866Z",
     "start_time": "2020-12-06T17:22:03.720794Z"
    }
   },
   "outputs": [],
   "source": [
    "rf = RandomForestRegressor(criterion='mse', max_features = \"sqrt\", random_state=randomSeed, oob_score=True)\n",
    "\n"
   ]
  },
  {
   "cell_type": "code",
   "execution_count": 31,
   "metadata": {
    "ExecuteTime": {
     "end_time": "2020-12-06T17:28:31.524498Z",
     "start_time": "2020-12-06T17:28:31.517209Z"
    }
   },
   "outputs": [
    {
     "name": "stdout",
     "output_type": "stream",
     "text": [
      "Best score=94479.8626\n",
      "Best parameters:\n",
      "- n_estimators=300\n",
      "- max_depth=50\n",
      "- min_samples_leaf=1\n",
      "- min_samples_split=2\n",
      "\n"
     ]
    }
   ],
   "source": [
    "print(\"Best score=%.4f\" % res_gp_rf.fun)\n",
    "print(\"\"\"Best parameters:\n",
    "n_estimators=%d\n",
    "max_depth=%d\n",
    "min_samples_leaf=%d\n",
    "min_samples_split=%d\n",
    "\"\"\" % (res_gp_rf.x[0], res_gp_rf.x[1],res_gp_rf.x[2], res_gp_rf.x[3]))\n",
    "plot_convergence(res_gp_rf)"
   ]
  },
  {
   "cell_type": "markdown",
   "metadata": {
    "heading_collapsed": true
   },
   "source": [
    "# compare with others"
   ]
  },
  {
   "cell_type": "code",
   "execution_count": null,
   "metadata": {
    "hidden": true
   },
   "outputs": [],
   "source": []
  },
  {
   "cell_type": "code",
   "execution_count": null,
   "metadata": {
    "hidden": true
   },
   "outputs": [],
   "source": []
  },
  {
   "cell_type": "markdown",
   "metadata": {
    "heading_collapsed": true
   },
   "source": [
    "# full data"
   ]
  },
  {
   "cell_type": "code",
   "execution_count": 52,
   "metadata": {
    "ExecuteTime": {
     "end_time": "2020-12-06T17:45:11.702154Z",
     "start_time": "2020-12-06T17:45:11.646146Z"
    },
    "hidden": true
   },
   "outputs": [
    {
     "data": {
      "text/plain": [
       "(0.553507633283657, 80594.28243587608)"
      ]
     },
     "execution_count": 52,
     "metadata": {},
     "output_type": "execute_result"
    }
   ],
   "source": [
    "dtr = DecisionTreeRegressor(max_depth=1152,\n",
    "                            max_leaf_nodes=728,\n",
    "                            min_samples_split=12,\n",
    "                            min_samples_leaf=8)\n",
    "dtr.fit(x,y)\n",
    "y_p = dtr.predict(x)\n",
    "mae = mean_absolute_error(y_p, y)\n",
    "dtr.score(x,y), mae"
   ]
  },
  {
   "cell_type": "code",
   "execution_count": null,
   "metadata": {
    "ExecuteTime": {
     "end_time": "2020-12-06T17:32:50.198329Z",
     "start_time": "2020-12-06T17:32:49.073600Z"
    },
    "hidden": true
   },
   "outputs": [],
   "source": [
    "rf = RandomForestRegressor(criterion='mse', \n",
    "                           max_features = \"sqrt\", \n",
    "                           random_state=randomSeed, \n",
    "                           oob_score=True,\n",
    "                           n_estimators=300,\n",
    "                           max_depth=50,\n",
    "                           min_samples_leaf=1,\n",
    "                           min_samples_split=2)\n",
    "rf.fit(x,y)\n",
    "y_p = rf.predict(x)\n",
    "mae = mean_absolute_error(y_p, y)\n",
    "rf.oob_score_, rf.score(x,y), mae"
   ]
  },
  {
   "cell_type": "markdown",
   "metadata": {
    "heading_collapsed": true,
    "hidden": true
   },
   "source": [
    "## model check"
   ]
  },
  {
   "cell_type": "markdown",
   "metadata": {
    "heading_collapsed": true
   },
   "source": [
    "# test"
   ]
  },
  {
   "cell_type": "code",
   "execution_count": 48,
   "metadata": {
    "ExecuteTime": {
     "end_time": "2020-12-06T17:41:48.001264Z",
     "start_time": "2020-12-06T17:41:47.988205Z"
    },
    "hidden": true
   },
   "outputs": [],
   "source": [
    "# read test data\n",
    "x_test = pd.read_feather(X_TST_PATH)\n",
    "y_test = pd.read_feather(Y_TST_PATH)"
   ]
  },
  {
   "cell_type": "code",
   "execution_count": 49,
   "metadata": {
    "ExecuteTime": {
     "end_time": "2020-12-06T17:41:50.089095Z",
     "start_time": "2020-12-06T17:41:50.084938Z"
    },
    "hidden": true
   },
   "outputs": [],
   "source": [
    "x_test, y_test = feature_engineering(x_test, y_test)"
   ]
  },
  {
   "cell_type": "code",
   "execution_count": 50,
   "metadata": {
    "ExecuteTime": {
     "end_time": "2020-12-06T17:41:50.863270Z",
     "start_time": "2020-12-06T17:41:50.616344Z"
    },
    "hidden": true,
    "scrolled": true
   },
   "outputs": [
    {
     "data": {
      "text/plain": [
       "92963.12992378572"
      ]
     },
     "execution_count": 50,
     "metadata": {},
     "output_type": "execute_result"
    }
   ],
   "source": [
    "# Random Forest\n",
    "y_pred = rf.predict(x_test)\n",
    "mean_absolute_error(y_pred, y_test)"
   ]
  },
  {
   "cell_type": "code",
   "execution_count": 51,
   "metadata": {
    "ExecuteTime": {
     "end_time": "2020-12-06T17:41:51.539705Z",
     "start_time": "2020-12-06T17:41:51.525641Z"
    },
    "hidden": true
   },
   "outputs": [
    {
     "data": {
      "text/plain": [
       "108844.27591047403"
      ]
     },
     "execution_count": 51,
     "metadata": {},
     "output_type": "execute_result"
    }
   ],
   "source": [
    "# Decision Tree\n",
    "y_pred = dtr.predict(x_test)\n",
    "mean_absolute_error(y_pred, y_test)"
   ]
  },
  {
   "cell_type": "markdown",
   "metadata": {
    "heading_collapsed": true
   },
   "source": [
    "# predict"
   ]
  },
  {
   "cell_type": "code",
   "execution_count": null,
   "metadata": {
    "hidden": true
   },
   "outputs": [],
   "source": []
  },
  {
   "cell_type": "markdown",
   "metadata": {
    "heading_collapsed": true
   },
   "source": [
    "# post-process"
   ]
  },
  {
   "cell_type": "code",
   "execution_count": 59,
   "metadata": {
    "hidden": true
   },
   "outputs": [],
   "source": []
  },
  {
   "cell_type": "code",
   "execution_count": null,
   "metadata": {
    "hidden": true
   },
   "outputs": [],
   "source": []
  },
  {
   "cell_type": "code",
   "execution_count": null,
   "metadata": {
    "hidden": true
   },
   "outputs": [],
   "source": []
  }
 ],
 "metadata": {
  "kernelspec": {
   "display_name": "Python 3",
   "language": "python",
   "name": "python3"
  },
  "language_info": {
   "codemirror_mode": {
    "name": "ipython",
    "version": 3
   },
   "file_extension": ".py",
   "mimetype": "text/x-python",
   "name": "python",
   "nbconvert_exporter": "python",
   "pygments_lexer": "ipython3",
   "version": "3.6.9"
  },
  "toc": {
   "base_numbering": 1,
   "nav_menu": {},
   "number_sections": true,
   "sideBar": true,
   "skip_h1_title": false,
   "title_cell": "Table of Contents",
   "title_sidebar": "Contents",
   "toc_cell": false,
   "toc_position": {},
   "toc_section_display": true,
   "toc_window_display": false
  }
 },
 "nbformat": 4,
 "nbformat_minor": 4
}
