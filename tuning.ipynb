{
 "cells": [
  {
   "cell_type": "code",
   "execution_count": 1,
   "metadata": {
    "ExecuteTime": {
     "end_time": "2020-12-27T21:21:18.659488Z",
     "start_time": "2020-12-27T21:21:17.694314Z"
    }
   },
   "outputs": [],
   "source": [
    "# general\n",
    "import os,sys,inspect\n",
    "\n",
    "currentdir = os.path.dirname(os.path.abspath(inspect.getfile(inspect.currentframe())))\n",
    "parentdir = os.path.dirname(currentdir)\n",
    "sys.path.insert(0,parentdir)\n",
    "\n",
    "import numpy as np\n",
    "\n",
    "# validation\n",
    "from sklearn.model_selection import cross_validate\n",
    "\n",
    "# modleing\n",
    "from sklearn.ensemble import RandomForestClassifier\n",
    "\n",
    "# bayesian optimization\n",
    "from skopt import BayesSearchCV\n",
    "\n",
    "# genetic algorithm optimization\n",
    "from pygad import GA\n",
    "\n",
    "# custom\n",
    "import src.custom_exceptions\n",
    "\n",
    "class Tuner():\n",
    "\n",
    "    def __init__(self, model, x, y, params=None):\n",
    "        self.model = model\n",
    "        self.x = x\n",
    "        self.y = y\n",
    "        self.modelName = type(model).__name__\n",
    "        self.choose_model_params(self.modelName)\n",
    "        self.params = params\n",
    "        global X\n",
    "        global Y\n",
    "        global CV\n",
    "        X = self.x\n",
    "        Y = self.y\n",
    "        CV = self.cv\n",
    "\n",
    "\n",
    "    def choose_model_params(self, modelType):\n",
    "        if modelType == 'RandomForestClassifier':\n",
    "            self.space = {\n",
    "                         'n_estimators':(10, 500),\n",
    "                         'max_depth':(10, 100),\n",
    "                         'min_samples_leaf':(1, 100),\n",
    "                         'min_samples_split':(2, 25),\n",
    "                         'max_features':['auto', 'sqrt', 'log2'] }\n",
    "            self.cv = 3\n",
    "            self.n_iter = 32\n",
    "\n",
    "    def tune(self, optMethod):\n",
    "        if optMethod==None:\n",
    "            optMethod = self.optMethod\n",
    "\n",
    "        if optMethod == 'bayes':\n",
    "            opt = self.bayes_opt()\n",
    "        elif optMethod == 'genetic':\n",
    "            opt = self.genetic_opt(self.params)\n",
    "        else:\n",
    "            opt = None\n",
    "            raise custom_exceptions.InvalidTuningMethod(optMethod)\n",
    "        return opt\n",
    "\n",
    "    def bayes_opt(self):\n",
    "        opt = BayesSearchCV(self.model, self.space, self.n_iter, self.cv)\n",
    "        print(self.x)\n",
    "        print(self.y)\n",
    "        print(type(self.x))\n",
    "        print(type(self.y))\n",
    "        print(self.space)\n",
    "        opt.fit(self.x, self.y)\n",
    "        return opt\n",
    "\n",
    "    def genetic_opt(self, params=None):\n",
    "        fitnessFunc, geneSpace = self.choose_fitness(self.modelName)\n",
    "        if params==None:\n",
    "            cardinality = len(geneSpace)\n",
    "            params = self.choose_genetic_params(cardinality)\n",
    "        opt = GA(fitness_func=fitnessFunc,\n",
    "                 gene_space=geneSpace,\n",
    "                 **params)\n",
    "        opt.run()\n",
    "        return opt\n",
    "\n",
    "    def choose_genetic_params(self, cardinality):\n",
    "\n",
    "        if self.modelName == 'RandomForestClassifier':\n",
    "            params = {\n",
    "                'sol_per_pop':4,\n",
    "                'num_genes':cardinality,\n",
    "                'num_generations':10,\n",
    "                'num_parents_mating':3,\n",
    "                'parent_selection_type':\"sss\",\n",
    "                'keep_parents':1,\n",
    "                'crossover_type':\"single_point\",\n",
    "                'mutation_type':\"random\",\n",
    "                'mutation_percent_genes':20}\n",
    "        return params\n",
    "\n",
    "\n",
    "    def choose_fitness(self, modelName):\n",
    "        if modelName == 'RandomForestClassifier':\n",
    "            fitnessFunc = random_forest_fitness\n",
    "            geneSpace = []\n",
    "        for k in self.space:\n",
    "            s = self.space[k]\n",
    "            stype = type(s[0])\n",
    "            if stype==int:\n",
    "                geneSpace.append(s)\n",
    "        return fitnessFunc, geneSpace\n",
    "\n",
    "def random_forest_fitness(solution, solution_idx):\n",
    "    # TODO: integrate genetic opt with common bayes optimization api\n",
    "    rfc = RandomForestClassifier(n_estimators=int(solution[0]),\n",
    "                                 max_depth=int(solution[1]),\n",
    "                                 min_samples_leaf=int(solution[2]),\n",
    "                                 min_samples_split=int(solution[3]),\n",
    "                                oob_score=True)\n",
    "    oobScores = []\n",
    "    for i in range(CV):\n",
    "        rfc.fit(X, Y)\n",
    "        oobScores.append(rfc.oob_score_)\n",
    "    fitness = np.mean(oobScores)\n",
    "    return fitness\n",
    "\n",
    "if __name__ == \"__main__\":\n",
    "    pass"
   ]
  },
  {
   "cell_type": "code",
   "execution_count": 5,
   "metadata": {
    "ExecuteTime": {
     "end_time": "2020-12-27T21:22:30.797550Z",
     "start_time": "2020-12-27T21:22:30.534025Z"
    }
   },
   "outputs": [],
   "source": [
    "# data\n",
    "import pandas as pd\n",
    "import numpy as np\n",
    "# modeling\n",
    "from sklearn.datasets import load_iris\n",
    "from sklearn.model_selection import train_test_split\n",
    "from sklearn.ensemble import RandomForestClassifier\n"
   ]
  },
  {
   "cell_type": "code",
   "execution_count": 6,
   "metadata": {
    "ExecuteTime": {
     "end_time": "2020-12-27T21:22:31.671267Z",
     "start_time": "2020-12-27T21:22:31.662651Z"
    }
   },
   "outputs": [],
   "source": [
    "data = load_iris()\n",
    "x = pd.DataFrame(data['data'],columns=data['feature_names'])\n",
    "y = data['target']\n",
    "xtrn, xtst, ytrn, ytst = train_test_split(x,y,test_size=0.2)\n",
    "xtrn = xtrn.to_numpy()\n"
   ]
  },
  {
   "cell_type": "code",
   "execution_count": 9,
   "metadata": {
    "ExecuteTime": {
     "end_time": "2020-12-27T21:23:15.132424Z",
     "start_time": "2020-12-27T21:23:15.124660Z"
    },
    "scrolled": true
   },
   "outputs": [
    {
     "name": "stdout",
     "output_type": "stream",
     "text": [
      "<class 'int'>\n"
     ]
    }
   ],
   "source": [
    "rfc = RandomForestClassifier()\n",
    "t = Tuner(rfc, xtrn, ytrn)\n",
    "t.cv = 3\n",
    "t.n_iter = 4\n",
    "print(type(t.cv))"
   ]
  },
  {
   "cell_type": "code",
   "execution_count": 28,
   "metadata": {
    "ExecuteTime": {
     "end_time": "2020-12-27T21:29:19.611149Z",
     "start_time": "2020-12-27T21:29:19.606234Z"
    }
   },
   "outputs": [],
   "source": [
    "doesntspace = {'n_estimators':(10, 500),\n",
    "                 'max_depth':(10, 100),\n",
    "                 'min_samples_leaf':(1, 100),\n",
    "                 'min_samples_split':(2, 25),\n",
    "                 'max_features':['auto', 'sqrt', 'log2'] \n",
    "}"
   ]
  },
  {
   "cell_type": "code",
   "execution_count": 18,
   "metadata": {
    "ExecuteTime": {
     "end_time": "2020-12-27T21:26:37.016905Z",
     "start_time": "2020-12-27T21:26:37.011959Z"
    }
   },
   "outputs": [],
   "source": [
    "cv = 3\n",
    "n_iter=4"
   ]
  },
  {
   "cell_type": "code",
   "execution_count": 26,
   "metadata": {
    "ExecuteTime": {
     "end_time": "2020-12-27T21:28:41.291914Z",
     "start_time": "2020-12-27T21:28:41.286666Z"
    }
   },
   "outputs": [],
   "source": [
    "space = {  'n_estimators':(10, 500),\n",
    "    'max_depth':(10, 100),\n",
    "    'min_samples_leaf':(1, 100),\n",
    "    'min_samples_split':(2, 25),\n",
    "    'max_features':['auto', 'sqrt', 'log2']\n",
    "    }"
   ]
  },
  {
   "cell_type": "code",
   "execution_count": 29,
   "metadata": {
    "ExecuteTime": {
     "end_time": "2020-12-27T21:29:29.490200Z",
     "start_time": "2020-12-27T21:29:26.988937Z"
    }
   },
   "outputs": [
    {
     "data": {
      "text/plain": [
       "BayesSearchCV(cv=3, estimator=RandomForestClassifier(), n_iter=3,\n",
       "              search_spaces={'max_depth': (10, 100),\n",
       "                             'max_features': ['auto', 'sqrt', 'log2'],\n",
       "                             'min_samples_leaf': (1, 100),\n",
       "                             'min_samples_split': (2, 25),\n",
       "                             'n_estimators': (10, 500)})"
      ]
     },
     "execution_count": 29,
     "metadata": {},
     "output_type": "execute_result"
    }
   ],
   "source": [
    "opt = BayesSearchCV(\n",
    "    rfc,doesntspace,\n",
    "    n_iter=3,\n",
    "    cv=3\n",
    ")\n",
    "opt.fit(xtrn, ytrn)"
   ]
  },
  {
   "cell_type": "code",
   "execution_count": 30,
   "metadata": {
    "ExecuteTime": {
     "end_time": "2020-12-27T21:29:33.300885Z",
     "start_time": "2020-12-27T21:29:33.283128Z"
    }
   },
   "outputs": [
    {
     "ename": "TypeError",
     "evalue": "'int' object is not iterable",
     "output_type": "error",
     "traceback": [
      "\u001b[0;31m---------------------------------------------------------------------------\u001b[0m",
      "\u001b[0;31mTypeError\u001b[0m                                 Traceback (most recent call last)",
      "\u001b[0;32m<ipython-input-30-6dd347cd651f>\u001b[0m in \u001b[0;36m<module>\u001b[0;34m\u001b[0m\n\u001b[1;32m      1\u001b[0m \u001b[0mopt\u001b[0m \u001b[0;34m=\u001b[0m \u001b[0mBayesSearchCV\u001b[0m\u001b[0;34m(\u001b[0m\u001b[0mrfc\u001b[0m\u001b[0;34m,\u001b[0m \u001b[0mspace\u001b[0m\u001b[0;34m,\u001b[0m \u001b[0mn_iter\u001b[0m\u001b[0;34m,\u001b[0m \u001b[0mcv\u001b[0m\u001b[0;34m)\u001b[0m\u001b[0;34m\u001b[0m\u001b[0;34m\u001b[0m\u001b[0m\n\u001b[0;32m----> 2\u001b[0;31m \u001b[0mopt\u001b[0m\u001b[0;34m.\u001b[0m\u001b[0mfit\u001b[0m\u001b[0;34m(\u001b[0m\u001b[0mxtrn\u001b[0m\u001b[0;34m,\u001b[0m \u001b[0mytrn\u001b[0m\u001b[0;34m)\u001b[0m\u001b[0;34m\u001b[0m\u001b[0;34m\u001b[0m\u001b[0m\n\u001b[0m",
      "\u001b[0;32m~/.local/lib/python3.6/site-packages/skopt/searchcv.py\u001b[0m in \u001b[0;36mfit\u001b[0;34m(self, X, y, groups, callback)\u001b[0m\n\u001b[1;32m    658\u001b[0m             \u001b[0mself\u001b[0m\u001b[0;34m.\u001b[0m\u001b[0moptimizer_kwargs_\u001b[0m \u001b[0;34m=\u001b[0m \u001b[0;34m{\u001b[0m\u001b[0;34m}\u001b[0m\u001b[0;34m\u001b[0m\u001b[0;34m\u001b[0m\u001b[0m\n\u001b[1;32m    659\u001b[0m         \u001b[0;32melse\u001b[0m\u001b[0;34m:\u001b[0m\u001b[0;34m\u001b[0m\u001b[0;34m\u001b[0m\u001b[0m\n\u001b[0;32m--> 660\u001b[0;31m             \u001b[0mself\u001b[0m\u001b[0;34m.\u001b[0m\u001b[0moptimizer_kwargs_\u001b[0m \u001b[0;34m=\u001b[0m \u001b[0mdict\u001b[0m\u001b[0;34m(\u001b[0m\u001b[0mself\u001b[0m\u001b[0;34m.\u001b[0m\u001b[0moptimizer_kwargs\u001b[0m\u001b[0;34m)\u001b[0m\u001b[0;34m\u001b[0m\u001b[0;34m\u001b[0m\u001b[0m\n\u001b[0m\u001b[1;32m    661\u001b[0m         \u001b[0mrandom_state\u001b[0m \u001b[0;34m=\u001b[0m \u001b[0mcheck_random_state\u001b[0m\u001b[0;34m(\u001b[0m\u001b[0mself\u001b[0m\u001b[0;34m.\u001b[0m\u001b[0mrandom_state\u001b[0m\u001b[0;34m)\u001b[0m\u001b[0;34m\u001b[0m\u001b[0;34m\u001b[0m\u001b[0m\n\u001b[1;32m    662\u001b[0m         \u001b[0mself\u001b[0m\u001b[0;34m.\u001b[0m\u001b[0moptimizer_kwargs_\u001b[0m\u001b[0;34m[\u001b[0m\u001b[0;34m'random_state'\u001b[0m\u001b[0;34m]\u001b[0m \u001b[0;34m=\u001b[0m \u001b[0mrandom_state\u001b[0m\u001b[0;34m\u001b[0m\u001b[0;34m\u001b[0m\u001b[0m\n",
      "\u001b[0;31mTypeError\u001b[0m: 'int' object is not iterable"
     ]
    }
   ],
   "source": [
    "opt = BayesSearchCV(rfc, space, n_iter, cv)\n",
    "opt.fit(xtrn, ytrn)"
   ]
  },
  {
   "cell_type": "code",
   "execution_count": 8,
   "metadata": {
    "ExecuteTime": {
     "end_time": "2020-12-27T21:22:57.993195Z",
     "start_time": "2020-12-27T21:22:57.954450Z"
    }
   },
   "outputs": [
    {
     "name": "stdout",
     "output_type": "stream",
     "text": [
      "[[4.9 3.6 1.4 0.1]\n",
      " [6.2 2.9 4.3 1.3]\n",
      " [6.8 2.8 4.8 1.4]\n",
      " [5.9 3.  5.1 1.8]\n",
      " [6.5 3.2 5.1 2. ]\n",
      " [6.3 2.3 4.4 1.3]\n",
      " [4.9 3.  1.4 0.2]\n",
      " [6.3 2.8 5.1 1.5]\n",
      " [4.6 3.6 1.  0.2]\n",
      " [7.2 3.2 6.  1.8]\n",
      " [5.7 2.6 3.5 1. ]\n",
      " [5.1 3.8 1.5 0.3]\n",
      " [6.3 3.3 6.  2.5]\n",
      " [6.7 2.5 5.8 1.8]\n",
      " [6.3 2.5 4.9 1.5]\n",
      " [7.7 3.8 6.7 2.2]\n",
      " [7.2 3.  5.8 1.6]\n",
      " [5.4 3.4 1.5 0.4]\n",
      " [6.1 2.8 4.  1.3]\n",
      " [5.7 3.8 1.7 0.3]\n",
      " [5.7 2.5 5.  2. ]\n",
      " [5.5 2.4 3.8 1.1]\n",
      " [5.4 3.7 1.5 0.2]\n",
      " [5.  2.  3.5 1. ]\n",
      " [6.5 3.  5.8 2.2]\n",
      " [7.3 2.9 6.3 1.8]\n",
      " [5.1 2.5 3.  1.1]\n",
      " [4.8 3.1 1.6 0.2]\n",
      " [5.5 4.2 1.4 0.2]\n",
      " [7.7 2.8 6.7 2. ]\n",
      " [4.8 3.  1.4 0.1]\n",
      " [4.4 2.9 1.4 0.2]\n",
      " [6.1 3.  4.9 1.8]\n",
      " [5.1 3.7 1.5 0.4]\n",
      " [4.4 3.  1.3 0.2]\n",
      " [5.8 4.  1.2 0.2]\n",
      " [5.8 2.7 5.1 1.9]\n",
      " [6.7 3.1 4.4 1.4]\n",
      " [6.9 3.1 5.1 2.3]\n",
      " [5.7 4.4 1.5 0.4]\n",
      " [5.  3.4 1.6 0.4]\n",
      " [6.7 3.1 4.7 1.5]\n",
      " [7.2 3.6 6.1 2.5]\n",
      " [6.5 3.  5.5 1.8]\n",
      " [5.  3.  1.6 0.2]\n",
      " [6.1 2.8 4.7 1.2]\n",
      " [6.8 3.2 5.9 2.3]\n",
      " [5.8 2.8 5.1 2.4]\n",
      " [6.7 3.  5.  1.7]\n",
      " [6.2 2.2 4.5 1.5]\n",
      " [4.5 2.3 1.3 0.3]\n",
      " [5.6 3.  4.5 1.5]\n",
      " [4.9 3.1 1.5 0.1]\n",
      " [5.1 3.8 1.9 0.4]\n",
      " [4.7 3.2 1.3 0.2]\n",
      " [5.7 2.8 4.5 1.3]\n",
      " [5.  3.5 1.6 0.6]\n",
      " [4.8 3.4 1.9 0.2]\n",
      " [6.6 3.  4.4 1.4]\n",
      " [5.5 2.3 4.  1.3]\n",
      " [6.4 3.2 5.3 2.3]\n",
      " [6.9 3.1 5.4 2.1]\n",
      " [6.7 3.1 5.6 2.4]\n",
      " [6.2 2.8 4.8 1.8]\n",
      " [6.  2.7 5.1 1.6]\n",
      " [5.4 3.  4.5 1.5]\n",
      " [5.9 3.  4.2 1.5]\n",
      " [7.1 3.  5.9 2.1]\n",
      " [6.3 2.9 5.6 1.8]\n",
      " [5.4 3.9 1.7 0.4]\n",
      " [5.4 3.9 1.3 0.4]\n",
      " [6.1 2.6 5.6 1.4]\n",
      " [5.  3.2 1.2 0.2]\n",
      " [4.9 3.1 1.5 0.2]\n",
      " [6.  2.9 4.5 1.5]\n",
      " [4.8 3.4 1.6 0.2]\n",
      " [6.3 3.3 4.7 1.6]\n",
      " [5.2 3.5 1.5 0.2]\n",
      " [5.1 3.5 1.4 0.2]\n",
      " [5.8 2.7 3.9 1.2]\n",
      " [5.  3.4 1.5 0.2]\n",
      " [5.6 2.5 3.9 1.1]\n",
      " [6.5 3.  5.2 2. ]\n",
      " [6.9 3.1 4.9 1.5]\n",
      " [6.7 3.  5.2 2.3]\n",
      " [6.8 3.  5.5 2.1]\n",
      " [5.1 3.3 1.7 0.5]\n",
      " [4.9 2.4 3.3 1. ]\n",
      " [5.7 3.  4.2 1.2]\n",
      " [6.4 2.8 5.6 2.2]\n",
      " [4.7 3.2 1.6 0.2]\n",
      " [5.1 3.4 1.5 0.2]\n",
      " [5.  3.6 1.4 0.2]\n",
      " [5.6 2.9 3.6 1.3]\n",
      " [4.6 3.2 1.4 0.2]\n",
      " [5.6 2.8 4.9 2. ]\n",
      " [4.6 3.1 1.5 0.2]\n",
      " [5.6 2.7 4.2 1.3]\n",
      " [4.9 2.5 4.5 1.7]\n",
      " [5.5 2.6 4.4 1.2]\n",
      " [4.4 3.2 1.3 0.2]\n",
      " [6.1 2.9 4.7 1.4]\n",
      " [5.9 3.2 4.8 1.8]\n",
      " [4.6 3.4 1.4 0.3]\n",
      " [6.5 2.8 4.6 1.5]\n",
      " [5.  3.5 1.3 0.3]\n",
      " [6.  3.  4.8 1.8]\n",
      " [6.7 3.3 5.7 2.5]\n",
      " [4.8 3.  1.4 0.3]\n",
      " [5.5 2.5 4.  1.3]\n",
      " [5.7 2.8 4.1 1.3]\n",
      " [5.3 3.7 1.5 0.2]\n",
      " [7.7 3.  6.1 2.3]\n",
      " [5.2 4.1 1.5 0.1]\n",
      " [6.2 3.4 5.4 2.3]\n",
      " [6.3 3.4 5.6 2.4]\n",
      " [6.1 3.  4.6 1.4]\n",
      " [5.4 3.4 1.7 0.2]\n",
      " [6.4 3.2 4.5 1.5]\n",
      " [6.7 3.3 5.7 2.1]]\n",
      "[0 1 1 2 2 1 0 2 0 2 1 0 2 2 1 2 2 0 1 0 2 1 0 1 2 2 1 0 0 2 0 0 2 0 0 0 2\n",
      " 1 2 0 0 1 2 2 0 1 2 2 1 1 0 1 0 0 0 1 0 0 1 1 2 2 2 2 1 1 1 2 2 0 0 2 0 0\n",
      " 1 0 1 0 0 1 0 1 2 1 2 2 0 1 1 2 0 0 0 1 0 2 0 1 2 1 0 1 1 0 1 0 2 2 0 1 1\n",
      " 0 2 0 2 2 1 0 1 2]\n",
      "<class 'numpy.ndarray'>\n",
      "<class 'numpy.ndarray'>\n",
      "{'n_estimators': (10, 500), 'max_depth': (10, 100), 'min_samples_leaf': (1, 100), 'min_samples_split': (2, 25), 'max_features': ['auto', 'sqrt', 'log2']}\n"
     ]
    },
    {
     "ename": "TypeError",
     "evalue": "'int' object is not iterable",
     "output_type": "error",
     "traceback": [
      "\u001b[0;31m---------------------------------------------------------------------------\u001b[0m",
      "\u001b[0;31mTypeError\u001b[0m                                 Traceback (most recent call last)",
      "\u001b[0;32m<ipython-input-8-7fcdff3ec0fa>\u001b[0m in \u001b[0;36m<module>\u001b[0;34m\u001b[0m\n\u001b[0;32m----> 1\u001b[0;31m \u001b[0mopt\u001b[0m \u001b[0;34m=\u001b[0m \u001b[0mt\u001b[0m\u001b[0;34m.\u001b[0m\u001b[0mtune\u001b[0m\u001b[0;34m(\u001b[0m\u001b[0;34m'bayes'\u001b[0m\u001b[0;34m)\u001b[0m\u001b[0;34m\u001b[0m\u001b[0;34m\u001b[0m\u001b[0m\n\u001b[0m",
      "\u001b[0;32m<ipython-input-1-df3e4530d960>\u001b[0m in \u001b[0;36mtune\u001b[0;34m(self, optMethod)\u001b[0m\n\u001b[1;32m     56\u001b[0m \u001b[0;34m\u001b[0m\u001b[0m\n\u001b[1;32m     57\u001b[0m         \u001b[0;32mif\u001b[0m \u001b[0moptMethod\u001b[0m \u001b[0;34m==\u001b[0m \u001b[0;34m'bayes'\u001b[0m\u001b[0;34m:\u001b[0m\u001b[0;34m\u001b[0m\u001b[0;34m\u001b[0m\u001b[0m\n\u001b[0;32m---> 58\u001b[0;31m             \u001b[0mopt\u001b[0m \u001b[0;34m=\u001b[0m \u001b[0mself\u001b[0m\u001b[0;34m.\u001b[0m\u001b[0mbayes_opt\u001b[0m\u001b[0;34m(\u001b[0m\u001b[0;34m)\u001b[0m\u001b[0;34m\u001b[0m\u001b[0;34m\u001b[0m\u001b[0m\n\u001b[0m\u001b[1;32m     59\u001b[0m         \u001b[0;32melif\u001b[0m \u001b[0moptMethod\u001b[0m \u001b[0;34m==\u001b[0m \u001b[0;34m'genetic'\u001b[0m\u001b[0;34m:\u001b[0m\u001b[0;34m\u001b[0m\u001b[0;34m\u001b[0m\u001b[0m\n\u001b[1;32m     60\u001b[0m             \u001b[0mopt\u001b[0m \u001b[0;34m=\u001b[0m \u001b[0mself\u001b[0m\u001b[0;34m.\u001b[0m\u001b[0mgenetic_opt\u001b[0m\u001b[0;34m(\u001b[0m\u001b[0mself\u001b[0m\u001b[0;34m.\u001b[0m\u001b[0mparams\u001b[0m\u001b[0;34m)\u001b[0m\u001b[0;34m\u001b[0m\u001b[0;34m\u001b[0m\u001b[0m\n",
      "\u001b[0;32m<ipython-input-1-df3e4530d960>\u001b[0m in \u001b[0;36mbayes_opt\u001b[0;34m(self)\u001b[0m\n\u001b[1;32m     71\u001b[0m         \u001b[0mprint\u001b[0m\u001b[0;34m(\u001b[0m\u001b[0mtype\u001b[0m\u001b[0;34m(\u001b[0m\u001b[0mself\u001b[0m\u001b[0;34m.\u001b[0m\u001b[0my\u001b[0m\u001b[0;34m)\u001b[0m\u001b[0;34m)\u001b[0m\u001b[0;34m\u001b[0m\u001b[0;34m\u001b[0m\u001b[0m\n\u001b[1;32m     72\u001b[0m         \u001b[0mprint\u001b[0m\u001b[0;34m(\u001b[0m\u001b[0mself\u001b[0m\u001b[0;34m.\u001b[0m\u001b[0mspace\u001b[0m\u001b[0;34m)\u001b[0m\u001b[0;34m\u001b[0m\u001b[0;34m\u001b[0m\u001b[0m\n\u001b[0;32m---> 73\u001b[0;31m         \u001b[0mopt\u001b[0m\u001b[0;34m.\u001b[0m\u001b[0mfit\u001b[0m\u001b[0;34m(\u001b[0m\u001b[0mself\u001b[0m\u001b[0;34m.\u001b[0m\u001b[0mx\u001b[0m\u001b[0;34m,\u001b[0m \u001b[0mself\u001b[0m\u001b[0;34m.\u001b[0m\u001b[0my\u001b[0m\u001b[0;34m)\u001b[0m\u001b[0;34m\u001b[0m\u001b[0;34m\u001b[0m\u001b[0m\n\u001b[0m\u001b[1;32m     74\u001b[0m         \u001b[0;32mreturn\u001b[0m \u001b[0mopt\u001b[0m\u001b[0;34m\u001b[0m\u001b[0;34m\u001b[0m\u001b[0m\n\u001b[1;32m     75\u001b[0m \u001b[0;34m\u001b[0m\u001b[0m\n",
      "\u001b[0;32m~/.local/lib/python3.6/site-packages/skopt/searchcv.py\u001b[0m in \u001b[0;36mfit\u001b[0;34m(self, X, y, groups, callback)\u001b[0m\n\u001b[1;32m    658\u001b[0m             \u001b[0mself\u001b[0m\u001b[0;34m.\u001b[0m\u001b[0moptimizer_kwargs_\u001b[0m \u001b[0;34m=\u001b[0m \u001b[0;34m{\u001b[0m\u001b[0;34m}\u001b[0m\u001b[0;34m\u001b[0m\u001b[0;34m\u001b[0m\u001b[0m\n\u001b[1;32m    659\u001b[0m         \u001b[0;32melse\u001b[0m\u001b[0;34m:\u001b[0m\u001b[0;34m\u001b[0m\u001b[0;34m\u001b[0m\u001b[0m\n\u001b[0;32m--> 660\u001b[0;31m             \u001b[0mself\u001b[0m\u001b[0;34m.\u001b[0m\u001b[0moptimizer_kwargs_\u001b[0m \u001b[0;34m=\u001b[0m \u001b[0mdict\u001b[0m\u001b[0;34m(\u001b[0m\u001b[0mself\u001b[0m\u001b[0;34m.\u001b[0m\u001b[0moptimizer_kwargs\u001b[0m\u001b[0;34m)\u001b[0m\u001b[0;34m\u001b[0m\u001b[0;34m\u001b[0m\u001b[0m\n\u001b[0m\u001b[1;32m    661\u001b[0m         \u001b[0mrandom_state\u001b[0m \u001b[0;34m=\u001b[0m \u001b[0mcheck_random_state\u001b[0m\u001b[0;34m(\u001b[0m\u001b[0mself\u001b[0m\u001b[0;34m.\u001b[0m\u001b[0mrandom_state\u001b[0m\u001b[0;34m)\u001b[0m\u001b[0;34m\u001b[0m\u001b[0;34m\u001b[0m\u001b[0m\n\u001b[1;32m    662\u001b[0m         \u001b[0mself\u001b[0m\u001b[0;34m.\u001b[0m\u001b[0moptimizer_kwargs_\u001b[0m\u001b[0;34m[\u001b[0m\u001b[0;34m'random_state'\u001b[0m\u001b[0;34m]\u001b[0m \u001b[0;34m=\u001b[0m \u001b[0mrandom_state\u001b[0m\u001b[0;34m\u001b[0m\u001b[0;34m\u001b[0m\u001b[0m\n",
      "\u001b[0;31mTypeError\u001b[0m: 'int' object is not iterable"
     ]
    }
   ],
   "source": [
    "opt = t.tune('bayes')"
   ]
  },
  {
   "cell_type": "code",
   "execution_count": null,
   "metadata": {},
   "outputs": [],
   "source": []
  },
  {
   "cell_type": "code",
   "execution_count": null,
   "metadata": {},
   "outputs": [],
   "source": []
  }
 ],
 "metadata": {
  "kernelspec": {
   "display_name": "Python 3",
   "language": "python",
   "name": "python3"
  },
  "language_info": {
   "codemirror_mode": {
    "name": "ipython",
    "version": 3
   },
   "file_extension": ".py",
   "mimetype": "text/x-python",
   "name": "python",
   "nbconvert_exporter": "python",
   "pygments_lexer": "ipython3",
   "version": "3.6.9"
  },
  "toc": {
   "base_numbering": 1,
   "nav_menu": {},
   "number_sections": true,
   "sideBar": true,
   "skip_h1_title": false,
   "title_cell": "Table of Contents",
   "title_sidebar": "Contents",
   "toc_cell": false,
   "toc_position": {},
   "toc_section_display": true,
   "toc_window_display": false
  }
 },
 "nbformat": 4,
 "nbformat_minor": 4
}
