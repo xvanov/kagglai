{
 "cells": [
  {
   "cell_type": "code",
   "execution_count": 63,
   "metadata": {
    "ExecuteTime": {
     "end_time": "2020-12-27T17:45:32.722385Z",
     "start_time": "2020-12-27T17:45:32.702694Z"
    }
   },
   "outputs": [],
   "source": [
    "# general\n",
    "import os\n",
    "\n",
    "# data manipulation\n",
    "from sklearn.datasets import load_iris\n",
    "import pandas as pd\n",
    "import numpy as np\n",
    "import numpy\n",
    "\n",
    "# preprocessing\n",
    "from sklearn.preprocessing import RobustScaler\n",
    "\n",
    "# feature selection\n",
    "\n",
    "# model selection\n",
    "from sklearn.model_selection import train_test_split\n",
    "\n",
    "# modeling\n",
    "from sklearn.linear_model import LogisticRegression\n",
    "from sklearn.ensemble import RandomForestClassifier\n",
    "\n",
    "# validation\n",
    "from sklearn.metrics import mean_absolute_error, mean_squared_log_error\n",
    "from sklearn.model_selection import cross_validate, cross_val_score\n",
    "\n",
    "# hyperparameter optimization\n",
    "from skopt import BayesSearchCV\n",
    "from skopt import gp_minimize\n",
    "from skopt.space import Real, Integer, Categorical\n",
    "from skopt.utils import use_named_args\n",
    "from geneticalgorithm import geneticalgorithm as ga\n",
    "import pygad\n",
    "\n",
    "# visualization\n",
    "from matplotlib import pyplot as plt\n",
    "from skopt.plots import plot_convergence\n",
    "\n",
    "%matplotlib inline"
   ]
  },
  {
   "cell_type": "code",
   "execution_count": 3,
   "metadata": {
    "ExecuteTime": {
     "end_time": "2020-12-27T17:21:32.240850Z",
     "start_time": "2020-12-27T17:21:32.235480Z"
    }
   },
   "outputs": [],
   "source": [
    "def skot_hyperopt(space, model, x, y):\n",
    "    @use_named_args(space)\n",
    "    def objective(**params):\n",
    "        model.set_params(**params)\n",
    "\n",
    "        return -np.mean(cross_val_score(model, x, y, cv=5, n_jobs=-1,\n",
    "                                        scoring=\"accuracy\"))\n",
    "    res_gp = gp_minimize(objective, space, n_calls=50, random_state=0)\n",
    "    return res_gp"
   ]
  },
  {
   "cell_type": "code",
   "execution_count": 159,
   "metadata": {
    "ExecuteTime": {
     "end_time": "2020-12-27T21:13:40.883523Z",
     "start_time": "2020-12-27T21:13:40.873745Z"
    }
   },
   "outputs": [],
   "source": [
    "data = load_iris()\n",
    "x = pd.DataFrame(data['data'], \n",
    "                 columns=data['feature_names'])\n",
    "y = data['target']"
   ]
  },
  {
   "cell_type": "code",
   "execution_count": 168,
   "metadata": {
    "ExecuteTime": {
     "end_time": "2020-12-27T21:14:04.105400Z",
     "start_time": "2020-12-27T21:14:04.092104Z"
    }
   },
   "outputs": [
    {
     "data": {
      "text/plain": [
       "array([[5. , 2.3, 3.3, 1. ],\n",
       "       [5.5, 4.2, 1.4, 0.2],\n",
       "       [5.4, 3. , 4.5, 1.5],\n",
       "       [6.3, 3.3, 6. , 2.5],\n",
       "       [6.3, 2.5, 4.9, 1.5],\n",
       "       [6.3, 2.8, 5.1, 1.5],\n",
       "       [5. , 3.5, 1.3, 0.3],\n",
       "       [6.1, 2.9, 4.7, 1.4],\n",
       "       [5.1, 3.8, 1.5, 0.3],\n",
       "       [6.1, 2.8, 4. , 1.3],\n",
       "       [5.9, 3. , 4.2, 1.5],\n",
       "       [5.6, 2.5, 3.9, 1.1],\n",
       "       [5.4, 3.9, 1.3, 0.4],\n",
       "       [6.3, 2.7, 4.9, 1.8],\n",
       "       [4.6, 3.4, 1.4, 0.3],\n",
       "       [5.7, 2.9, 4.2, 1.3],\n",
       "       [5.8, 2.8, 5.1, 2.4],\n",
       "       [4.6, 3.1, 1.5, 0.2],\n",
       "       [4.8, 3.4, 1.6, 0.2],\n",
       "       [6. , 2.2, 5. , 1.5],\n",
       "       [6.5, 3.2, 5.1, 2. ],\n",
       "       [5.6, 3. , 4.5, 1.5],\n",
       "       [5.4, 3.9, 1.7, 0.4],\n",
       "       [7.2, 3.2, 6. , 1.8],\n",
       "       [5.8, 2.7, 4.1, 1. ],\n",
       "       [6.9, 3.1, 4.9, 1.5],\n",
       "       [6.3, 2.5, 5. , 1.9],\n",
       "       [4.4, 3.2, 1.3, 0.2],\n",
       "       [4.7, 3.2, 1.6, 0.2],\n",
       "       [4.5, 2.3, 1.3, 0.3],\n",
       "       [6.2, 2.2, 4.5, 1.5],\n",
       "       [4.3, 3. , 1.1, 0.1],\n",
       "       [6.1, 2.6, 5.6, 1.4],\n",
       "       [7.7, 3. , 6.1, 2.3],\n",
       "       [5.8, 2.7, 5.1, 1.9],\n",
       "       [5.8, 4. , 1.2, 0.2],\n",
       "       [6.3, 3.3, 4.7, 1.6],\n",
       "       [6.5, 2.8, 4.6, 1.5],\n",
       "       [5.4, 3.7, 1.5, 0.2],\n",
       "       [5.3, 3.7, 1.5, 0.2],\n",
       "       [6.7, 3. , 5.2, 2.3],\n",
       "       [5.7, 3.8, 1.7, 0.3],\n",
       "       [7.4, 2.8, 6.1, 1.9],\n",
       "       [5.1, 2.5, 3. , 1.1],\n",
       "       [6.3, 2.9, 5.6, 1.8],\n",
       "       [6. , 2.7, 5.1, 1.6],\n",
       "       [7.9, 3.8, 6.4, 2. ],\n",
       "       [4.9, 3.1, 1.5, 0.2],\n",
       "       [5.7, 3. , 4.2, 1.2],\n",
       "       [5.1, 3.8, 1.9, 0.4],\n",
       "       [6.7, 2.5, 5.8, 1.8],\n",
       "       [6.7, 3.3, 5.7, 2.1],\n",
       "       [5.2, 3.5, 1.5, 0.2],\n",
       "       [4.9, 2.5, 4.5, 1.7],\n",
       "       [5. , 2. , 3.5, 1. ],\n",
       "       [5. , 3.4, 1.6, 0.4],\n",
       "       [4.4, 2.9, 1.4, 0.2],\n",
       "       [4.6, 3.2, 1.4, 0.2],\n",
       "       [5.5, 2.4, 3.8, 1.1],\n",
       "       [4.9, 3.6, 1.4, 0.1],\n",
       "       [5.4, 3.4, 1.5, 0.4],\n",
       "       [5.7, 2.8, 4.1, 1.3],\n",
       "       [5.1, 3.8, 1.6, 0.2],\n",
       "       [7.3, 2.9, 6.3, 1.8],\n",
       "       [5. , 3.5, 1.6, 0.6],\n",
       "       [5.7, 2.8, 4.5, 1.3],\n",
       "       [6.8, 2.8, 4.8, 1.4],\n",
       "       [6. , 2.9, 4.5, 1.5],\n",
       "       [6.7, 3.1, 4.7, 1.5],\n",
       "       [5.4, 3.4, 1.7, 0.2],\n",
       "       [5.5, 2.5, 4. , 1.3],\n",
       "       [6.6, 3. , 4.4, 1.4],\n",
       "       [4.7, 3.2, 1.3, 0.2],\n",
       "       [6.4, 3.1, 5.5, 1.8],\n",
       "       [7. , 3.2, 4.7, 1.4],\n",
       "       [5. , 3.3, 1.4, 0.2],\n",
       "       [7.2, 3.6, 6.1, 2.5],\n",
       "       [4.4, 3. , 1.3, 0.2],\n",
       "       [5.5, 3.5, 1.3, 0.2],\n",
       "       [5.7, 2.6, 3.5, 1. ],\n",
       "       [5.7, 4.4, 1.5, 0.4],\n",
       "       [6.5, 3. , 5.2, 2. ],\n",
       "       [5.6, 2.8, 4.9, 2. ],\n",
       "       [4.8, 3. , 1.4, 0.1],\n",
       "       [5.8, 2.7, 5.1, 1.9],\n",
       "       [6.4, 3.2, 4.5, 1.5],\n",
       "       [6.6, 2.9, 4.6, 1.3],\n",
       "       [6.9, 3.1, 5.1, 2.3],\n",
       "       [7.6, 3. , 6.6, 2.1],\n",
       "       [7.7, 2.6, 6.9, 2.3],\n",
       "       [5.9, 3. , 5.1, 1.8],\n",
       "       [5. , 3.4, 1.5, 0.2],\n",
       "       [6.7, 3.1, 5.6, 2.4],\n",
       "       [5. , 3.2, 1.2, 0.2],\n",
       "       [6.8, 3.2, 5.9, 2.3],\n",
       "       [5.6, 2.9, 3.6, 1.3],\n",
       "       [7.7, 3.8, 6.7, 2.2],\n",
       "       [4.8, 3.4, 1.9, 0.2],\n",
       "       [6.1, 3. , 4.9, 1.8],\n",
       "       [5.5, 2.4, 3.7, 1. ],\n",
       "       [5.2, 4.1, 1.5, 0.1],\n",
       "       [6.9, 3.2, 5.7, 2.3],\n",
       "       [4.6, 3.6, 1. , 0.2],\n",
       "       [5.8, 2.6, 4. , 1.2],\n",
       "       [6.7, 3. , 5. , 1.7],\n",
       "       [6.5, 3. , 5.8, 2.2],\n",
       "       [6.4, 2.9, 4.3, 1.3],\n",
       "       [5.2, 3.4, 1.4, 0.2],\n",
       "       [5.5, 2.6, 4.4, 1.2],\n",
       "       [5.1, 3.4, 1.5, 0.2],\n",
       "       [6.4, 2.8, 5.6, 2.2],\n",
       "       [4.9, 2.4, 3.3, 1. ],\n",
       "       [5.5, 2.3, 4. , 1.3],\n",
       "       [6.7, 3.3, 5.7, 2.5],\n",
       "       [5.1, 3.5, 1.4, 0.2],\n",
       "       [6.2, 2.8, 4.8, 1.8],\n",
       "       [5.1, 3.5, 1.4, 0.3],\n",
       "       [6.4, 2.8, 5.6, 2.1],\n",
       "       [5.1, 3.3, 1.7, 0.5],\n",
       "       [5.6, 2.7, 4.2, 1.3]])"
      ]
     },
     "execution_count": 168,
     "metadata": {},
     "output_type": "execute_result"
    }
   ],
   "source": [
    "xtrn"
   ]
  },
  {
   "cell_type": "code",
   "execution_count": 160,
   "metadata": {
    "ExecuteTime": {
     "end_time": "2020-12-27T21:13:41.639929Z",
     "start_time": "2020-12-27T21:13:41.635985Z"
    }
   },
   "outputs": [],
   "source": [
    "xtrn, xtst, ytrn, ytst = train_test_split(x,y,test_size=0.2)"
   ]
  },
  {
   "cell_type": "code",
   "execution_count": 161,
   "metadata": {
    "ExecuteTime": {
     "end_time": "2020-12-27T21:13:42.114451Z",
     "start_time": "2020-12-27T21:13:42.111205Z"
    }
   },
   "outputs": [],
   "source": [
    "xtrn = xtrn.to_numpy()"
   ]
  },
  {
   "cell_type": "code",
   "execution_count": 162,
   "metadata": {
    "ExecuteTime": {
     "end_time": "2020-12-27T21:13:43.528036Z",
     "start_time": "2020-12-27T21:13:42.628103Z"
    }
   },
   "outputs": [],
   "source": [
    "rfc = RandomForestClassifier()\n",
    "rfc.fit(xtrn, ytrn)\n",
    "rfcCV = cross_validate(rfc, xtrn, ytrn,cv=5,scoring=(\"accuracy\"))\n"
   ]
  },
  {
   "cell_type": "code",
   "execution_count": 163,
   "metadata": {
    "ExecuteTime": {
     "end_time": "2020-12-27T21:13:43.536697Z",
     "start_time": "2020-12-27T21:13:43.530517Z"
    }
   },
   "outputs": [
    {
     "data": {
      "text/plain": [
       "{'fit_time': array([0.13759899, 0.13657737, 0.14413667, 0.13729048, 0.13710237]),\n",
       " 'score_time': array([0.01006889, 0.01066566, 0.0105195 , 0.00984788, 0.01029801]),\n",
       " 'test_score': array([0.91666667, 0.95833333, 0.95833333, 1.        , 0.95833333])}"
      ]
     },
     "execution_count": 163,
     "metadata": {},
     "output_type": "execute_result"
    }
   ],
   "source": [
    "rfcCV"
   ]
  },
  {
   "cell_type": "code",
   "execution_count": 150,
   "metadata": {
    "ExecuteTime": {
     "end_time": "2020-12-27T21:09:27.523938Z",
     "start_time": "2020-12-27T21:09:27.510886Z"
    }
   },
   "outputs": [
    {
     "data": {
      "text/html": [
       "<div>\n",
       "<style scoped>\n",
       "    .dataframe tbody tr th:only-of-type {\n",
       "        vertical-align: middle;\n",
       "    }\n",
       "\n",
       "    .dataframe tbody tr th {\n",
       "        vertical-align: top;\n",
       "    }\n",
       "\n",
       "    .dataframe thead th {\n",
       "        text-align: right;\n",
       "    }\n",
       "</style>\n",
       "<table border=\"1\" class=\"dataframe\">\n",
       "  <thead>\n",
       "    <tr style=\"text-align: right;\">\n",
       "      <th></th>\n",
       "      <th>sepal length (cm)</th>\n",
       "      <th>sepal width (cm)</th>\n",
       "      <th>petal length (cm)</th>\n",
       "      <th>petal width (cm)</th>\n",
       "    </tr>\n",
       "  </thead>\n",
       "  <tbody>\n",
       "    <tr>\n",
       "      <th>112</th>\n",
       "      <td>6.8</td>\n",
       "      <td>3.0</td>\n",
       "      <td>5.5</td>\n",
       "      <td>2.1</td>\n",
       "    </tr>\n",
       "    <tr>\n",
       "      <th>35</th>\n",
       "      <td>5.0</td>\n",
       "      <td>3.2</td>\n",
       "      <td>1.2</td>\n",
       "      <td>0.2</td>\n",
       "    </tr>\n",
       "    <tr>\n",
       "      <th>86</th>\n",
       "      <td>6.7</td>\n",
       "      <td>3.1</td>\n",
       "      <td>4.7</td>\n",
       "      <td>1.5</td>\n",
       "    </tr>\n",
       "    <tr>\n",
       "      <th>60</th>\n",
       "      <td>5.0</td>\n",
       "      <td>2.0</td>\n",
       "      <td>3.5</td>\n",
       "      <td>1.0</td>\n",
       "    </tr>\n",
       "    <tr>\n",
       "      <th>114</th>\n",
       "      <td>5.8</td>\n",
       "      <td>2.8</td>\n",
       "      <td>5.1</td>\n",
       "      <td>2.4</td>\n",
       "    </tr>\n",
       "    <tr>\n",
       "      <th>...</th>\n",
       "      <td>...</td>\n",
       "      <td>...</td>\n",
       "      <td>...</td>\n",
       "      <td>...</td>\n",
       "    </tr>\n",
       "    <tr>\n",
       "      <th>43</th>\n",
       "      <td>5.0</td>\n",
       "      <td>3.5</td>\n",
       "      <td>1.6</td>\n",
       "      <td>0.6</td>\n",
       "    </tr>\n",
       "    <tr>\n",
       "      <th>120</th>\n",
       "      <td>6.9</td>\n",
       "      <td>3.2</td>\n",
       "      <td>5.7</td>\n",
       "      <td>2.3</td>\n",
       "    </tr>\n",
       "    <tr>\n",
       "      <th>21</th>\n",
       "      <td>5.1</td>\n",
       "      <td>3.7</td>\n",
       "      <td>1.5</td>\n",
       "      <td>0.4</td>\n",
       "    </tr>\n",
       "    <tr>\n",
       "      <th>136</th>\n",
       "      <td>6.3</td>\n",
       "      <td>3.4</td>\n",
       "      <td>5.6</td>\n",
       "      <td>2.4</td>\n",
       "    </tr>\n",
       "    <tr>\n",
       "      <th>147</th>\n",
       "      <td>6.5</td>\n",
       "      <td>3.0</td>\n",
       "      <td>5.2</td>\n",
       "      <td>2.0</td>\n",
       "    </tr>\n",
       "  </tbody>\n",
       "</table>\n",
       "<p>120 rows × 4 columns</p>\n",
       "</div>"
      ],
      "text/plain": [
       "     sepal length (cm)  sepal width (cm)  petal length (cm)  petal width (cm)\n",
       "112                6.8               3.0                5.5               2.1\n",
       "35                 5.0               3.2                1.2               0.2\n",
       "86                 6.7               3.1                4.7               1.5\n",
       "60                 5.0               2.0                3.5               1.0\n",
       "114                5.8               2.8                5.1               2.4\n",
       "..                 ...               ...                ...               ...\n",
       "43                 5.0               3.5                1.6               0.6\n",
       "120                6.9               3.2                5.7               2.3\n",
       "21                 5.1               3.7                1.5               0.4\n",
       "136                6.3               3.4                5.6               2.4\n",
       "147                6.5               3.0                5.2               2.0\n",
       "\n",
       "[120 rows x 4 columns]"
      ]
     },
     "execution_count": 150,
     "metadata": {},
     "output_type": "execute_result"
    }
   ],
   "source": [
    "xtrn"
   ]
  },
  {
   "cell_type": "code",
   "execution_count": 151,
   "metadata": {
    "ExecuteTime": {
     "end_time": "2020-12-27T21:09:45.598932Z",
     "start_time": "2020-12-27T21:09:45.584739Z"
    }
   },
   "outputs": [],
   "source": [
    "robustTransformer = RobustScaler().fit(xtrn)\n",
    "xtrn = robustTransformer.transform(xtrn)"
   ]
  },
  {
   "cell_type": "code",
   "execution_count": 152,
   "metadata": {
    "ExecuteTime": {
     "end_time": "2020-12-27T21:09:49.352153Z",
     "start_time": "2020-12-27T21:09:49.338580Z"
    }
   },
   "outputs": [
    {
     "data": {
      "text/plain": [
       "array([[ 0.875     ,  0.        ,  0.32857143,  0.55172414],\n",
       "       [-0.625     ,  0.4       , -0.9       , -0.75862069],\n",
       "       [ 0.79166667,  0.2       ,  0.1       ,  0.13793103],\n",
       "       [-0.625     , -2.        , -0.24285714, -0.20689655],\n",
       "       [ 0.04166667, -0.4       ,  0.21428571,  0.75862069],\n",
       "       [ 0.54166667,  0.2       ,  0.32857143,  0.34482759],\n",
       "       [-0.95833333,  0.4       , -0.84285714, -0.75862069],\n",
       "       [-0.20833333, -1.4       , -0.1       ,  0.        ],\n",
       "       [ 0.20833333, -0.2       ,  0.04285714,  0.13793103],\n",
       "       [ 1.375     , -0.4       ,  0.5       ,  0.4137931 ],\n",
       "       [-0.54166667,  1.        , -0.84285714, -0.75862069],\n",
       "       [ 0.04166667, -0.6       , -0.12857143, -0.06896552],\n",
       "       [ 0.29166667, -0.2       ,  0.1       ,  0.06896552],\n",
       "       [-0.79166667,  0.        , -0.84285714, -0.68965517],\n",
       "       [ 0.625     ,  0.        ,  0.41428571,  0.62068966],\n",
       "       [-0.125     , -0.2       , -0.21428571,  0.        ],\n",
       "       [ 0.20833333,  0.8       ,  0.04285714,  0.20689655],\n",
       "       [-0.04166667,  0.        , -0.04285714, -0.06896552],\n",
       "       [-0.375     ,  1.4       , -0.81428571, -0.75862069],\n",
       "       [ 0.45833333, -0.4       ,  0.21428571,  0.13793103],\n",
       "       [-0.70833333,  0.2       , -0.81428571, -0.82758621],\n",
       "       [-1.125     , -0.2       , -0.84285714, -0.75862069],\n",
       "       [ 0.95833333,  0.2       ,  0.15714286,  0.13793103],\n",
       "       [-0.20833333, -0.8       ,  0.01428571, -0.06896552],\n",
       "       [-0.54166667,  0.8       , -0.81428571, -0.75862069],\n",
       "       [ 0.45833333, -1.        ,  0.15714286,  0.13793103],\n",
       "       [ 1.79166667,  1.6       ,  0.58571429,  0.48275862],\n",
       "       [-0.20833333, -1.        , -0.1       ,  0.        ],\n",
       "       [ 0.375     ,  0.8       ,  0.3       ,  0.68965517],\n",
       "       [ 0.125     ,  0.        ,  0.21428571,  0.34482759],\n",
       "       [-0.45833333, -0.6       , -0.12857143,  0.06896552],\n",
       "       [ 0.29166667,  0.        ,  0.15714286,  0.34482759],\n",
       "       [-0.625     ,  0.8       , -0.78571429, -0.62068966],\n",
       "       [ 0.54166667, -0.6       ,  0.27142857,  0.4137931 ],\n",
       "       [ 0.125     ,  0.        , -0.04285714,  0.13793103],\n",
       "       [ 0.375     , -1.6       ,  0.04285714,  0.13793103],\n",
       "       [ 0.79166667,  0.        ,  0.18571429,  0.27586207],\n",
       "       [-0.125     ,  0.        , -0.07142857,  0.        ],\n",
       "       [-0.20833333,  1.        , -0.87142857, -0.75862069],\n",
       "       [-0.95833333,  1.2       , -0.95714286, -0.75862069],\n",
       "       [ 1.54166667,  0.        ,  0.64285714,  0.55172414],\n",
       "       [-0.20833333, -1.2       , -0.18571429, -0.20689655],\n",
       "       [ 0.625     ,  0.4       ,  0.21428571,  0.48275862],\n",
       "       [ 0.20833333, -1.6       ,  0.18571429,  0.13793103],\n",
       "       [ 0.45833333, -1.        ,  0.18571429,  0.4137931 ],\n",
       "       [-0.04166667, -0.2       , -0.04285714,  0.        ],\n",
       "       [ 0.79166667,  0.2       ,  0.35714286,  0.75862069],\n",
       "       [-0.79166667,  0.        , -0.84285714, -0.82758621],\n",
       "       [ 0.95833333,  0.2       ,  0.21428571,  0.68965517],\n",
       "       [ 0.625     , -0.4       ,  0.07142857,  0.13793103],\n",
       "       [ 0.875     , -0.4       ,  0.12857143,  0.06896552],\n",
       "       [ 0.29166667, -0.8       ,  0.35714286,  0.06896552],\n",
       "       [ 0.04166667, -0.6       ,  0.21428571,  0.4137931 ],\n",
       "       [ 1.125     ,  0.        ,  0.44285714,  0.55172414],\n",
       "       [-0.20833333,  2.4       , -0.84285714, -0.75862069],\n",
       "       [-1.20833333,  0.        , -0.92857143, -0.82758621],\n",
       "       [ 0.54166667,  0.4       ,  0.27142857,  0.68965517],\n",
       "       [-1.125     ,  0.        , -0.87142857, -0.75862069],\n",
       "       [-0.625     ,  0.        , -0.78571429, -0.75862069],\n",
       "       [-0.70833333,  1.2       , -0.84285714, -0.82758621],\n",
       "       [-0.45833333,  0.8       , -0.84285714, -0.75862069],\n",
       "       [ 0.54166667,  0.4       ,  0.04285714,  0.13793103],\n",
       "       [ 0.125     ,  0.4       ,  0.12857143,  0.34482759],\n",
       "       [-0.04166667, -0.4       ,  0.04285714,  0.        ],\n",
       "       [-0.54166667,  1.6       , -0.7       , -0.62068966],\n",
       "       [-1.04166667, -1.4       , -0.87142857, -0.68965517],\n",
       "       [ 0.70833333, -0.2       ,  0.07142857,  0.        ],\n",
       "       [-0.29166667,  1.8       , -0.75714286, -0.62068966],\n",
       "       [-0.04166667, -0.4       , -0.07142857,  0.        ],\n",
       "       [-0.625     ,  1.        , -0.87142857, -0.68965517],\n",
       "       [ 0.375     , -0.2       , -0.01428571,  0.        ],\n",
       "       [-0.04166667, -0.8       , -0.24285714, -0.20689655],\n",
       "       [ 0.45833333,  0.6       ,  0.1       ,  0.20689655],\n",
       "       [-0.70833333,  0.        , -0.84285714, -0.75862069],\n",
       "       [-0.45833333,  2.2       , -0.81428571, -0.82758621],\n",
       "       [-0.04166667, -1.        ,  0.18571429,  0.48275862],\n",
       "       [-0.875     ,  0.4       , -0.78571429, -0.75862069],\n",
       "       [ 1.20833333,  0.4       ,  0.47142857,  0.34482759],\n",
       "       [ 1.625     ,  0.        ,  0.5       ,  0.68965517],\n",
       "       [ 0.45833333, -1.4       ,  0.01428571,  0.        ],\n",
       "       [ 0.45833333,  0.6       ,  0.47142857,  0.82758621],\n",
       "       [-0.29166667,  0.8       , -0.81428571, -0.62068966],\n",
       "       [-0.125     , -0.4       ,  0.15714286,  0.48275862],\n",
       "       [-0.29166667,  0.8       , -0.75714286, -0.75862069],\n",
       "       [-0.125     , -0.6       , -0.04285714,  0.        ],\n",
       "       [ 0.54166667, -0.4       ,  0.35714286,  0.55172414],\n",
       "       [-0.45833333,  1.        , -0.81428571, -0.75862069],\n",
       "       [ 0.79166667,  0.6       ,  0.38571429,  0.55172414],\n",
       "       [ 0.20833333,  0.        ,  0.12857143,  0.34482759],\n",
       "       [-0.29166667,  1.4       , -0.81428571, -0.75862069],\n",
       "       [-0.04166667,  2.8       , -0.81428571, -0.62068966],\n",
       "       [-0.29166667,  1.8       , -0.87142857, -0.62068966],\n",
       "       [ 1.20833333,  0.        ,  0.41428571,  0.20689655],\n",
       "       [ 1.625     ,  1.6       ,  0.67142857,  0.62068966],\n",
       "       [ 0.79166667,  0.2       ,  0.01428571,  0.06896552],\n",
       "       [-0.625     , -1.4       , -0.3       , -0.20689655],\n",
       "       [ 0.45833333, -0.2       ,  0.35714286,  0.34482759],\n",
       "       [ 0.79166667,  0.        ,  0.24285714,  0.68965517],\n",
       "       [-0.625     ,  0.6       , -0.84285714, -0.75862069],\n",
       "       [ 0.04166667, -0.6       ,  0.21428571,  0.4137931 ],\n",
       "       [ 0.875     ,  0.4       ,  0.44285714,  0.68965517],\n",
       "       [-0.20833333, -1.2       , -0.15714286, -0.13793103],\n",
       "       [-0.29166667,  0.        ,  0.04285714,  0.13793103],\n",
       "       [-0.70833333,  0.2       , -0.81428571, -0.75862069],\n",
       "       [-0.04166667,  1.6       , -0.75714286, -0.68965517],\n",
       "       [-0.95833333,  0.2       , -0.81428571, -0.75862069],\n",
       "       [-0.70833333, -1.2       , -0.3       , -0.20689655],\n",
       "       [ 0.70833333,  0.        ,  0.01428571,  0.06896552],\n",
       "       [-0.125     , -1.        , -0.12857143, -0.13793103],\n",
       "       [ 1.20833333,  1.2       ,  0.5       ,  0.82758621],\n",
       "       [ 0.04166667, -0.8       , -0.1       , -0.06896552],\n",
       "       [-0.79166667,  0.2       , -0.78571429, -0.75862069],\n",
       "       [-0.54166667, -1.        , -0.38571429, -0.13793103],\n",
       "       [ 1.625     , -0.8       ,  0.72857143,  0.68965517],\n",
       "       [ 0.04166667, -0.6       , -0.07142857, -0.20689655],\n",
       "       [-0.625     ,  1.        , -0.78571429, -0.48275862],\n",
       "       [ 0.95833333,  0.4       ,  0.38571429,  0.68965517],\n",
       "       [-0.54166667,  1.4       , -0.81428571, -0.62068966],\n",
       "       [ 0.45833333,  0.8       ,  0.35714286,  0.75862069],\n",
       "       [ 0.625     ,  0.        ,  0.24285714,  0.48275862]])"
      ]
     },
     "execution_count": 152,
     "metadata": {},
     "output_type": "execute_result"
    }
   ],
   "source": [
    "xtrn"
   ]
  },
  {
   "cell_type": "code",
   "execution_count": 76,
   "metadata": {
    "ExecuteTime": {
     "end_time": "2020-12-27T17:55:39.412558Z",
     "start_time": "2020-12-27T17:55:39.405716Z"
    }
   },
   "outputs": [],
   "source": [
    "xtst = robustTransformer.transform(xtst)"
   ]
  },
  {
   "cell_type": "code",
   "execution_count": 7,
   "metadata": {
    "ExecuteTime": {
     "end_time": "2020-12-27T17:21:32.367953Z",
     "start_time": "2020-12-27T17:21:32.306585Z"
    }
   },
   "outputs": [],
   "source": [
    "lr = LogisticRegression()\n",
    "scoring = ('accuracy', 'r2')\n",
    "cvScr = cross_validate(lr,xtrn,ytrn,cv=5, \n",
    "                       scoring=scoring, \n",
    "                       return_train_score=True)"
   ]
  },
  {
   "cell_type": "code",
   "execution_count": 9,
   "metadata": {
    "ExecuteTime": {
     "end_time": "2020-12-27T17:21:43.364564Z",
     "start_time": "2020-12-27T17:21:43.360675Z"
    }
   },
   "outputs": [
    {
     "data": {
      "text/plain": [
       "0.925"
      ]
     },
     "execution_count": 9,
     "metadata": {},
     "output_type": "execute_result"
    }
   ],
   "source": [
    "cvScr['test_accuracy'].mean()"
   ]
  },
  {
   "cell_type": "code",
   "execution_count": 10,
   "metadata": {
    "ExecuteTime": {
     "end_time": "2020-12-27T17:21:44.812788Z",
     "start_time": "2020-12-27T17:21:43.815749Z"
    }
   },
   "outputs": [],
   "source": [
    "rfc = RandomForestClassifier(max_features = \"sqrt\", \n",
    "                             oob_score=True)\n",
    "rfcCV = cross_validate(rfc,xtrn,ytrn,cv=5, \n",
    "                       scoring=scoring, \n",
    "                       return_train_score=True)"
   ]
  },
  {
   "cell_type": "code",
   "execution_count": 11,
   "metadata": {
    "ExecuteTime": {
     "end_time": "2020-12-27T17:21:44.822232Z",
     "start_time": "2020-12-27T17:21:44.815921Z"
    }
   },
   "outputs": [
    {
     "data": {
      "text/plain": [
       "0.9583333333333334"
      ]
     },
     "execution_count": 11,
     "metadata": {},
     "output_type": "execute_result"
    }
   ],
   "source": [
    "rfcCV['test_accuracy'].mean()"
   ]
  },
  {
   "cell_type": "code",
   "execution_count": 12,
   "metadata": {
    "ExecuteTime": {
     "end_time": "2020-12-27T17:21:44.829225Z",
     "start_time": "2020-12-27T17:21:44.825783Z"
    }
   },
   "outputs": [],
   "source": [
    "rfc = RandomForestClassifier()"
   ]
  },
  {
   "cell_type": "markdown",
   "metadata": {
    "heading_collapsed": true
   },
   "source": [
    "# hyperopt"
   ]
  },
  {
   "cell_type": "code",
   "execution_count": 48,
   "metadata": {
    "ExecuteTime": {
     "end_time": "2020-12-27T17:39:58.050803Z",
     "start_time": "2020-12-27T17:39:02.005147Z"
    },
    "hidden": true
   },
   "outputs": [
    {
     "name": "stderr",
     "output_type": "stream",
     "text": [
      "/home/alex/.local/lib/python3.6/site-packages/skopt/optimizer/optimizer.py:449: UserWarning: The objective has been evaluated at this point before.\n",
      "  warnings.warn(\"The objective has been evaluated \"\n"
     ]
    }
   ],
   "source": [
    "\n",
    "space  = [  Integer(10, 100, name='n_estimators'),\n",
    "            Integer(10, 100, name='max_depth'),\n",
    "            Integer(1, 100, name='min_samples_leaf'),\n",
    "            Integer(2, 50, name='min_samples_split') #,\n",
    "            #Categorical(['auto', 'sqrt', 'log2'], name='max_features')\n",
    "         ]\n",
    "\n",
    "res_gp_rf = skot_hyperopt(space, rfc, xtrn, ytrn)"
   ]
  },
  {
   "cell_type": "code",
   "execution_count": 49,
   "metadata": {
    "ExecuteTime": {
     "end_time": "2020-12-27T17:39:58.563342Z",
     "start_time": "2020-12-27T17:39:58.053179Z"
    },
    "hidden": true
   },
   "outputs": [
    {
     "name": "stdout",
     "output_type": "stream",
     "text": [
      "Best score=-0.9667\n",
      "Best parameters:\n",
      "n_estimators=88\n",
      "max_depth=11\n",
      "min_samples_leaf=6\n",
      "min_samples_split=12\n",
      "\n"
     ]
    },
    {
     "data": {
      "text/plain": [
       "<AxesSubplot:title={'center':'Convergence plot'}, xlabel='Number of calls $n$', ylabel='$\\\\min f(x)$ after $n$ calls'>"
      ]
     },
     "execution_count": 49,
     "metadata": {},
     "output_type": "execute_result"
    },
    {
     "data": {
      "image/png": "[encoded data removed]",
      "text/plain": [
       "<Figure size 432x288 with 1 Axes>"
      ]
     },
     "metadata": {
      "needs_background": "light"
     },
     "output_type": "display_data"
    }
   ],
   "source": [
    "print(\"Best score=%.4f\" % res_gp_rf.fun)\n",
    "print(\"\"\"Best parameters:\n",
    "n_estimators=%d\n",
    "max_depth=%d\n",
    "min_samples_leaf=%d\n",
    "min_samples_split=%d\n",
    "\"\"\" % (res_gp_rf.x[0], res_gp_rf.x[1],res_gp_rf.x[2], res_gp_rf.x[3]))\n",
    "plot_convergence(res_gp_rf)"
   ]
  },
  {
   "cell_type": "code",
   "execution_count": 59,
   "metadata": {
    "ExecuteTime": {
     "end_time": "2020-12-27T17:43:25.515605Z",
     "start_time": "2020-12-27T17:43:25.094571Z"
    },
    "hidden": true
   },
   "outputs": [],
   "source": [
    "rfc = RandomForestClassifier(n_estimators=res_gp_rf.x[0],\n",
    "                            max_depth=res_gp_rf.x[1],\n",
    "                            min_samples_leaf=res_gp_rf.x[2],\n",
    "                            min_samples_split=res_gp_rf.x[3])\n",
    "rfc.fit(xtrn, ytrn)\n",
    "rfcCV = cross_validate(rfc, xtrn, ytrn,cv=2,scoring=(\"accuracy\"), return_train_score=True)\n"
   ]
  },
  {
   "cell_type": "code",
   "execution_count": 60,
   "metadata": {
    "ExecuteTime": {
     "end_time": "2020-12-27T17:43:26.014168Z",
     "start_time": "2020-12-27T17:43:26.008982Z"
    },
    "hidden": true
   },
   "outputs": [
    {
     "data": {
      "text/plain": [
       "{'fit_time': array([0.11985826, 0.11743021]),\n",
       " 'score_time': array([0.00925016, 0.00901294]),\n",
       " 'test_score': array([0.96666667, 0.91666667]),\n",
       " 'train_score': array([1.        , 0.98333333])}"
      ]
     },
     "execution_count": 60,
     "metadata": {},
     "output_type": "execute_result"
    }
   ],
   "source": [
    "rfcCV"
   ]
  },
  {
   "cell_type": "code",
   "execution_count": 61,
   "metadata": {
    "ExecuteTime": {
     "end_time": "2020-12-27T17:43:37.881727Z",
     "start_time": "2020-12-27T17:43:37.865372Z"
    },
    "hidden": true
   },
   "outputs": [
    {
     "data": {
      "text/plain": [
       "0.975"
      ]
     },
     "execution_count": 61,
     "metadata": {},
     "output_type": "execute_result"
    }
   ],
   "source": [
    "rfc.score(xtrn, ytrn)"
   ]
  },
  {
   "cell_type": "code",
   "execution_count": 62,
   "metadata": {
    "ExecuteTime": {
     "end_time": "2020-12-27T17:43:47.679255Z",
     "start_time": "2020-12-27T17:43:47.659209Z"
    },
    "hidden": true
   },
   "outputs": [
    {
     "data": {
      "text/plain": [
       "0.36666666666666664"
      ]
     },
     "execution_count": 62,
     "metadata": {},
     "output_type": "execute_result"
    }
   ],
   "source": [
    "rfc.score(xtst, ytst)"
   ]
  },
  {
   "cell_type": "markdown",
   "metadata": {},
   "source": [
    "# hyperopt wrapper"
   ]
  },
  {
   "cell_type": "code",
   "execution_count": 74,
   "metadata": {
    "ExecuteTime": {
     "end_time": "2020-12-27T17:52:17.583922Z",
     "start_time": "2020-12-27T17:51:05.370107Z"
    }
   },
   "outputs": [
    {
     "name": "stdout",
     "output_type": "stream",
     "text": [
      "val. score: 0.985894580549369\n",
      "test score: 0.9822222222222222\n"
     ]
    }
   ],
   "source": [
    "from sklearn.datasets import load_digits\n",
    "from sklearn.svm import SVC\n",
    "\n",
    "X, y = load_digits(n_class=10, return_X_y=True)\n",
    "X_train, X_test, y_train, y_test = train_test_split(X, y, train_size=0.75, test_size=.25, random_state=0)\n",
    "\n",
    "# log-uniform: understand as search over p = exp(x) by varying x\n",
    "opt = BayesSearchCV(\n",
    "    SVC(),\n",
    "    {\n",
    "        'C': (1e-6, 1e+6, 'log-uniform'),\n",
    "        'gamma': (1e-6, 1e+1, 'log-uniform'),\n",
    "        'degree': (1, 8),  # integer valued parameter\n",
    "        'kernel': ['linear', 'poly', 'rbf'],  # categorical parameter\n",
    "    },\n",
    "    n_iter=32,\n",
    "    cv=3\n",
    ")\n",
    "\n",
    "opt.fit(X_train, y_train)\n",
    "\n",
    "print(\"val. score: %s\" % opt.best_score_)\n",
    "print(\"test score: %s\" % opt.score(X_test, y_test))"
   ]
  },
  {
   "cell_type": "code",
   "execution_count": 169,
   "metadata": {
    "ExecuteTime": {
     "end_time": "2020-12-27T21:16:06.157642Z",
     "start_time": "2020-12-27T21:16:06.154315Z"
    }
   },
   "outputs": [],
   "source": [
    "rcf = RandomForestClassifier()"
   ]
  },
  {
   "cell_type": "code",
   "execution_count": 173,
   "metadata": {
    "ExecuteTime": {
     "end_time": "2020-12-27T21:17:46.148611Z",
     "start_time": "2020-12-27T21:17:46.142791Z"
    }
   },
   "outputs": [
    {
     "data": {
      "text/plain": [
       "array([1, 0, 1, 2, 1, 2, 0, 1, 0, 1, 1, 1, 0, 2, 0, 1, 2, 0, 0, 2, 2, 1,\n",
       "       0, 2, 1, 1, 2, 0, 0, 0, 1, 0, 2, 2, 2, 0, 1, 1, 0, 0, 2, 0, 2, 1,\n",
       "       2, 1, 2, 0, 1, 0, 2, 2, 0, 2, 1, 0, 0, 0, 1, 0, 0, 1, 0, 2, 0, 1,\n",
       "       1, 1, 1, 0, 1, 1, 0, 2, 1, 0, 2, 0, 0, 1, 0, 2, 2, 0, 2, 1, 1, 2,\n",
       "       2, 2, 2, 0, 2, 0, 2, 1, 2, 0, 2, 1, 0, 2, 0, 1, 1, 2, 1, 0, 1, 0,\n",
       "       2, 1, 1, 2, 0, 2, 0, 2, 0, 1])"
      ]
     },
     "execution_count": 173,
     "metadata": {},
     "output_type": "execute_result"
    }
   ],
   "source": [
    "ytrn"
   ]
  },
  {
   "cell_type": "code",
   "execution_count": 170,
   "metadata": {
    "ExecuteTime": {
     "end_time": "2020-12-27T21:17:26.546116Z",
     "start_time": "2020-12-27T21:16:06.726613Z"
    }
   },
   "outputs": [
    {
     "name": "stderr",
     "output_type": "stream",
     "text": [
      "/home/alex/.local/lib/python3.6/site-packages/skopt/optimizer/optimizer.py:449: UserWarning: The objective has been evaluated at this point before.\n",
      "  warnings.warn(\"The objective has been evaluated \"\n"
     ]
    },
    {
     "name": "stdout",
     "output_type": "stream",
     "text": [
      "val. score: 0.9666666666666667\n",
      "test score: 0.9333333333333333\n"
     ]
    }
   ],
   "source": [
    "opt = BayesSearchCV(\n",
    "    rcf,\n",
    "    {  \"n_estimators\":(10, 500),\n",
    "    'max_depth':(10, 100),\n",
    "    'min_samples_leaf':(1, 100),\n",
    "    'min_samples_split':(2, 25),\n",
    "    'max_features':['auto', 'sqrt', 'log2']\n",
    "    },\n",
    "    n_iter=32,\n",
    "    cv=3\n",
    ")\n",
    "\n",
    "opt.fit(xtrn, ytrn)\n",
    "\n",
    "print(\"val. score: %s\" % opt.best_score_)\n",
    "print(\"test score: %s\" % opt.score(xtst, ytst))"
   ]
  },
  {
   "cell_type": "code",
   "execution_count": 174,
   "metadata": {
    "ExecuteTime": {
     "end_time": "2020-12-27T21:20:29.782689Z",
     "start_time": "2020-12-27T21:20:29.775752Z"
    }
   },
   "outputs": [],
   "source": [
    "def bayes_opt(self):\n",
    "        opt = BayesSearchCV(self.model, self.space, self.n_iter, self.cv)\n",
    "        print(self.x)\n",
    "        print(self.y)\n",
    "        print(type(self.x))\n",
    "        print(type(self.y))\n",
    "        print(self.space)\n",
    "        opt.fit(self.x, self.y)\n",
    "        return opt\n"
   ]
  },
  {
   "cell_type": "code",
   "execution_count": null,
   "metadata": {},
   "outputs": [],
   "source": []
  },
  {
   "cell_type": "code",
   "execution_count": 171,
   "metadata": {
    "ExecuteTime": {
     "end_time": "2020-12-27T21:17:26.563984Z",
     "start_time": "2020-12-27T21:17:26.550623Z"
    }
   },
   "outputs": [
    {
     "data": {
      "text/plain": [
       "array([[5. , 2.3, 3.3, 1. ],\n",
       "       [5.5, 4.2, 1.4, 0.2],\n",
       "       [5.4, 3. , 4.5, 1.5],\n",
       "       [6.3, 3.3, 6. , 2.5],\n",
       "       [6.3, 2.5, 4.9, 1.5],\n",
       "       [6.3, 2.8, 5.1, 1.5],\n",
       "       [5. , 3.5, 1.3, 0.3],\n",
       "       [6.1, 2.9, 4.7, 1.4],\n",
       "       [5.1, 3.8, 1.5, 0.3],\n",
       "       [6.1, 2.8, 4. , 1.3],\n",
       "       [5.9, 3. , 4.2, 1.5],\n",
       "       [5.6, 2.5, 3.9, 1.1],\n",
       "       [5.4, 3.9, 1.3, 0.4],\n",
       "       [6.3, 2.7, 4.9, 1.8],\n",
       "       [4.6, 3.4, 1.4, 0.3],\n",
       "       [5.7, 2.9, 4.2, 1.3],\n",
       "       [5.8, 2.8, 5.1, 2.4],\n",
       "       [4.6, 3.1, 1.5, 0.2],\n",
       "       [4.8, 3.4, 1.6, 0.2],\n",
       "       [6. , 2.2, 5. , 1.5],\n",
       "       [6.5, 3.2, 5.1, 2. ],\n",
       "       [5.6, 3. , 4.5, 1.5],\n",
       "       [5.4, 3.9, 1.7, 0.4],\n",
       "       [7.2, 3.2, 6. , 1.8],\n",
       "       [5.8, 2.7, 4.1, 1. ],\n",
       "       [6.9, 3.1, 4.9, 1.5],\n",
       "       [6.3, 2.5, 5. , 1.9],\n",
       "       [4.4, 3.2, 1.3, 0.2],\n",
       "       [4.7, 3.2, 1.6, 0.2],\n",
       "       [4.5, 2.3, 1.3, 0.3],\n",
       "       [6.2, 2.2, 4.5, 1.5],\n",
       "       [4.3, 3. , 1.1, 0.1],\n",
       "       [6.1, 2.6, 5.6, 1.4],\n",
       "       [7.7, 3. , 6.1, 2.3],\n",
       "       [5.8, 2.7, 5.1, 1.9],\n",
       "       [5.8, 4. , 1.2, 0.2],\n",
       "       [6.3, 3.3, 4.7, 1.6],\n",
       "       [6.5, 2.8, 4.6, 1.5],\n",
       "       [5.4, 3.7, 1.5, 0.2],\n",
       "       [5.3, 3.7, 1.5, 0.2],\n",
       "       [6.7, 3. , 5.2, 2.3],\n",
       "       [5.7, 3.8, 1.7, 0.3],\n",
       "       [7.4, 2.8, 6.1, 1.9],\n",
       "       [5.1, 2.5, 3. , 1.1],\n",
       "       [6.3, 2.9, 5.6, 1.8],\n",
       "       [6. , 2.7, 5.1, 1.6],\n",
       "       [7.9, 3.8, 6.4, 2. ],\n",
       "       [4.9, 3.1, 1.5, 0.2],\n",
       "       [5.7, 3. , 4.2, 1.2],\n",
       "       [5.1, 3.8, 1.9, 0.4],\n",
       "       [6.7, 2.5, 5.8, 1.8],\n",
       "       [6.7, 3.3, 5.7, 2.1],\n",
       "       [5.2, 3.5, 1.5, 0.2],\n",
       "       [4.9, 2.5, 4.5, 1.7],\n",
       "       [5. , 2. , 3.5, 1. ],\n",
       "       [5. , 3.4, 1.6, 0.4],\n",
       "       [4.4, 2.9, 1.4, 0.2],\n",
       "       [4.6, 3.2, 1.4, 0.2],\n",
       "       [5.5, 2.4, 3.8, 1.1],\n",
       "       [4.9, 3.6, 1.4, 0.1],\n",
       "       [5.4, 3.4, 1.5, 0.4],\n",
       "       [5.7, 2.8, 4.1, 1.3],\n",
       "       [5.1, 3.8, 1.6, 0.2],\n",
       "       [7.3, 2.9, 6.3, 1.8],\n",
       "       [5. , 3.5, 1.6, 0.6],\n",
       "       [5.7, 2.8, 4.5, 1.3],\n",
       "       [6.8, 2.8, 4.8, 1.4],\n",
       "       [6. , 2.9, 4.5, 1.5],\n",
       "       [6.7, 3.1, 4.7, 1.5],\n",
       "       [5.4, 3.4, 1.7, 0.2],\n",
       "       [5.5, 2.5, 4. , 1.3],\n",
       "       [6.6, 3. , 4.4, 1.4],\n",
       "       [4.7, 3.2, 1.3, 0.2],\n",
       "       [6.4, 3.1, 5.5, 1.8],\n",
       "       [7. , 3.2, 4.7, 1.4],\n",
       "       [5. , 3.3, 1.4, 0.2],\n",
       "       [7.2, 3.6, 6.1, 2.5],\n",
       "       [4.4, 3. , 1.3, 0.2],\n",
       "       [5.5, 3.5, 1.3, 0.2],\n",
       "       [5.7, 2.6, 3.5, 1. ],\n",
       "       [5.7, 4.4, 1.5, 0.4],\n",
       "       [6.5, 3. , 5.2, 2. ],\n",
       "       [5.6, 2.8, 4.9, 2. ],\n",
       "       [4.8, 3. , 1.4, 0.1],\n",
       "       [5.8, 2.7, 5.1, 1.9],\n",
       "       [6.4, 3.2, 4.5, 1.5],\n",
       "       [6.6, 2.9, 4.6, 1.3],\n",
       "       [6.9, 3.1, 5.1, 2.3],\n",
       "       [7.6, 3. , 6.6, 2.1],\n",
       "       [7.7, 2.6, 6.9, 2.3],\n",
       "       [5.9, 3. , 5.1, 1.8],\n",
       "       [5. , 3.4, 1.5, 0.2],\n",
       "       [6.7, 3.1, 5.6, 2.4],\n",
       "       [5. , 3.2, 1.2, 0.2],\n",
       "       [6.8, 3.2, 5.9, 2.3],\n",
       "       [5.6, 2.9, 3.6, 1.3],\n",
       "       [7.7, 3.8, 6.7, 2.2],\n",
       "       [4.8, 3.4, 1.9, 0.2],\n",
       "       [6.1, 3. , 4.9, 1.8],\n",
       "       [5.5, 2.4, 3.7, 1. ],\n",
       "       [5.2, 4.1, 1.5, 0.1],\n",
       "       [6.9, 3.2, 5.7, 2.3],\n",
       "       [4.6, 3.6, 1. , 0.2],\n",
       "       [5.8, 2.6, 4. , 1.2],\n",
       "       [6.7, 3. , 5. , 1.7],\n",
       "       [6.5, 3. , 5.8, 2.2],\n",
       "       [6.4, 2.9, 4.3, 1.3],\n",
       "       [5.2, 3.4, 1.4, 0.2],\n",
       "       [5.5, 2.6, 4.4, 1.2],\n",
       "       [5.1, 3.4, 1.5, 0.2],\n",
       "       [6.4, 2.8, 5.6, 2.2],\n",
       "       [4.9, 2.4, 3.3, 1. ],\n",
       "       [5.5, 2.3, 4. , 1.3],\n",
       "       [6.7, 3.3, 5.7, 2.5],\n",
       "       [5.1, 3.5, 1.4, 0.2],\n",
       "       [6.2, 2.8, 4.8, 1.8],\n",
       "       [5.1, 3.5, 1.4, 0.3],\n",
       "       [6.4, 2.8, 5.6, 2.1],\n",
       "       [5.1, 3.3, 1.7, 0.5],\n",
       "       [5.6, 2.7, 4.2, 1.3]])"
      ]
     },
     "execution_count": 171,
     "metadata": {},
     "output_type": "execute_result"
    }
   ],
   "source": [
    "xtrn"
   ]
  },
  {
   "cell_type": "code",
   "execution_count": 77,
   "metadata": {
    "ExecuteTime": {
     "end_time": "2020-12-27T17:55:49.178035Z",
     "start_time": "2020-12-27T17:55:49.168549Z"
    }
   },
   "outputs": [
    {
     "name": "stdout",
     "output_type": "stream",
     "text": [
      "test score: 0.9333333333333333\n"
     ]
    }
   ],
   "source": [
    "print(\"test score: %s\" % opt.score(xtst, ytst))"
   ]
  },
  {
   "cell_type": "code",
   "execution_count": 84,
   "metadata": {
    "ExecuteTime": {
     "end_time": "2020-12-27T17:58:58.170412Z",
     "start_time": "2020-12-27T17:58:58.164114Z"
    }
   },
   "outputs": [
    {
     "data": {
      "text/plain": [
       "OrderedDict([('max_depth', 10),\n",
       "             ('max_features', 'sqrt'),\n",
       "             ('min_samples_leaf', 5),\n",
       "             ('min_samples_split', 25),\n",
       "             ('n_estimators', 10)])"
      ]
     },
     "execution_count": 84,
     "metadata": {},
     "output_type": "execute_result"
    }
   ],
   "source": [
    "opt.best_params_"
   ]
  },
  {
   "cell_type": "markdown",
   "metadata": {},
   "source": [
    "# genetic algorithm"
   ]
  },
  {
   "cell_type": "code",
   "execution_count": 13,
   "metadata": {
    "ExecuteTime": {
     "end_time": "2020-12-27T17:21:53.771761Z",
     "start_time": "2020-12-27T17:21:53.768131Z"
    }
   },
   "outputs": [],
   "source": [
    "function_inputs = [30,50,50,35]"
   ]
  },
  {
   "cell_type": "code",
   "execution_count": 14,
   "metadata": {
    "ExecuteTime": {
     "end_time": "2020-12-27T17:21:57.170195Z",
     "start_time": "2020-12-27T17:21:56.892574Z"
    }
   },
   "outputs": [],
   "source": [
    "rfc = RandomForestClassifier(n_estimators=function_inputs[0],\n",
    "                            max_depth=function_inputs[1],\n",
    "                            min_samples_leaf=function_inputs[2],\n",
    "                            min_samples_split=function_inputs[3])\n",
    "rfc.fit(xtrn, ytrn)\n",
    "rfcCV = cross_validate(rfc, xtrn, ytrn,cv=5,scoring=(\"accuracy\"))\n"
   ]
  },
  {
   "cell_type": "code",
   "execution_count": 15,
   "metadata": {
    "ExecuteTime": {
     "end_time": "2020-12-27T17:21:57.403729Z",
     "start_time": "2020-12-27T17:21:57.398341Z"
    }
   },
   "outputs": [
    {
     "data": {
      "text/plain": [
       "{'fit_time': array([0.04146934, 0.03998661, 0.04066086, 0.04123807, 0.0403893 ]),\n",
       " 'score_time': array([0.00410771, 0.00341964, 0.00332999, 0.00336933, 0.00347114]),\n",
       " 'test_score': array([0.33333333, 0.33333333, 0.375     , 0.375     , 0.375     ])}"
      ]
     },
     "execution_count": 15,
     "metadata": {},
     "output_type": "execute_result"
    }
   ],
   "source": [
    "rfcCV"
   ]
  },
  {
   "cell_type": "code",
   "execution_count": 31,
   "metadata": {
    "ExecuteTime": {
     "end_time": "2020-12-27T17:27:06.834522Z",
     "start_time": "2020-12-27T17:27:06.828550Z"
    }
   },
   "outputs": [],
   "source": [
    "def fitness_func(solution, solution_idx):\n",
    "    rfc = RandomForestClassifier(n_estimators=int(solution[0]),\n",
    "                                max_depth=int(solution[1]),\n",
    "                                min_samples_leaf=int(solution[2]),\n",
    "                                min_samples_split=int(solution[3]))\n",
    "    rfc.fit(xtrn, ytrn)\n",
    "    rfcCV = cross_validate(rfc, xtrn, ytrn,cv=5,scoring=\"accuracy\")\n",
    "    fitness = rfcCV['test_score'].mean()\n",
    "    return fitness"
   ]
  },
  {
   "cell_type": "code",
   "execution_count": 128,
   "metadata": {
    "ExecuteTime": {
     "end_time": "2020-12-27T20:40:48.563080Z",
     "start_time": "2020-12-27T20:40:48.044394Z"
    }
   },
   "outputs": [
    {
     "data": {
      "text/plain": [
       "RandomForestClassifier(max_depth=51, min_samples_leaf=3, min_samples_split=17,\n",
       "                       n_estimators=296, oob_score=True)"
      ]
     },
     "execution_count": 128,
     "metadata": {},
     "output_type": "execute_result"
    }
   ],
   "source": [
    "rfc = RandomForestClassifier(n_estimators=int(solution[0]),\n",
    "                                max_depth=int(solution[1]),\n",
    "                                min_samples_leaf=int(solution[2]),\n",
    "                                min_samples_split=int(solution[3]),\n",
    "                                 oob_score=True)\n",
    "rfc.fit(xtrn, ytrn)"
   ]
  },
  {
   "cell_type": "code",
   "execution_count": 101,
   "metadata": {
    "ExecuteTime": {
     "end_time": "2020-12-27T18:23:22.605703Z",
     "start_time": "2020-12-27T18:23:22.087733Z"
    }
   },
   "outputs": [
    {
     "data": {
      "text/plain": [
       "RandomForestClassifier(max_depth=51, min_samples_leaf=3, min_samples_split=17,\n",
       "                       n_estimators=296, oob_score=True)"
      ]
     },
     "execution_count": 101,
     "metadata": {},
     "output_type": "execute_result"
    }
   ],
   "source": [
    "rfc.fit(xtrn, ytrn)"
   ]
  },
  {
   "cell_type": "code",
   "execution_count": 102,
   "metadata": {
    "ExecuteTime": {
     "end_time": "2020-12-27T18:23:23.844496Z",
     "start_time": "2020-12-27T18:23:23.800261Z"
    }
   },
   "outputs": [
    {
     "data": {
      "text/plain": [
       "0.9833333333333333"
      ]
     },
     "execution_count": 102,
     "metadata": {},
     "output_type": "execute_result"
    }
   ],
   "source": [
    "rfc.score(xtrn, ytrn)"
   ]
  },
  {
   "cell_type": "code",
   "execution_count": 108,
   "metadata": {
    "ExecuteTime": {
     "end_time": "2020-12-27T18:30:03.335556Z",
     "start_time": "2020-12-27T18:30:03.329393Z"
    }
   },
   "outputs": [
    {
     "data": {
      "text/plain": [
       "86.875"
      ]
     },
     "execution_count": 108,
     "metadata": {},
     "output_type": "execute_result"
    }
   ],
   "source": [
    "np.mean([1,23,321.5,2])"
   ]
  },
  {
   "cell_type": "code",
   "execution_count": 129,
   "metadata": {
    "ExecuteTime": {
     "end_time": "2020-12-27T20:40:52.949685Z",
     "start_time": "2020-12-27T20:40:52.944782Z"
    }
   },
   "outputs": [
    {
     "data": {
      "text/plain": [
       "0.9666666666666667"
      ]
     },
     "execution_count": 129,
     "metadata": {},
     "output_type": "execute_result"
    }
   ],
   "source": [
    "rfc.oob_score_"
   ]
  },
  {
   "cell_type": "code",
   "execution_count": 33,
   "metadata": {
    "ExecuteTime": {
     "end_time": "2020-12-27T17:27:12.646178Z",
     "start_time": "2020-12-27T17:27:12.638207Z"
    }
   },
   "outputs": [],
   "source": [
    "fitness_function = fitness_func\n",
    "\n",
    "gene_type = int\n",
    "\n",
    "gene_space = [[10,400], [1,100], [1,25], [2,50]]\n",
    "gene_space = [range(10,400), range(1,100), range(1,25), range(2,50)]\n",
    "\n",
    "sol_per_pop = 4\n",
    "num_genes = len(gene_space)\n",
    "\n",
    "num_generations = 10\n",
    "num_parents_mating = 3\n",
    "\n",
    "parent_selection_type = \"sss\"\n",
    "keep_parents = 1\n",
    "\n",
    "crossover_type = \"single_point\"\n",
    "\n",
    "mutation_type = \"random\"\n",
    "mutation_percent_genes = 20"
   ]
  },
  {
   "cell_type": "code",
   "execution_count": 34,
   "metadata": {
    "ExecuteTime": {
     "end_time": "2020-12-27T17:27:13.447198Z",
     "start_time": "2020-12-27T17:27:13.442927Z"
    }
   },
   "outputs": [],
   "source": [
    "ga_instance = pygad.GA(num_generations=num_generations,\n",
    "                       num_parents_mating=num_parents_mating,\n",
    "                       fitness_func=fitness_function,\n",
    "                       parent_selection_type=parent_selection_type,\n",
    "                       keep_parents=keep_parents,\n",
    "                       crossover_type=crossover_type,\n",
    "                       mutation_type=mutation_type,\n",
    "                       sol_per_pop=sol_per_pop,\n",
    "                       num_genes=num_genes,\n",
    "                       gene_space=gene_space,\n",
    "                       mutation_percent_genes=mutation_percent_genes)"
   ]
  },
  {
   "cell_type": "code",
   "execution_count": 35,
   "metadata": {
    "ExecuteTime": {
     "end_time": "2020-12-27T17:30:01.102917Z",
     "start_time": "2020-12-27T17:27:14.311556Z"
    }
   },
   "outputs": [],
   "source": [
    "ga_instance.run()"
   ]
  },
  {
   "cell_type": "code",
   "execution_count": 36,
   "metadata": {
    "ExecuteTime": {
     "end_time": "2020-12-27T17:30:08.080773Z",
     "start_time": "2020-12-27T17:30:01.105375Z"
    }
   },
   "outputs": [
    {
     "name": "stdout",
     "output_type": "stream",
     "text": [
      "Parameters of the best solution : [296.  51.   3.  17.]\n",
      "Fitness value of the best solution = 0.975\n"
     ]
    }
   ],
   "source": [
    "solution, solution_fitness, solution_idx = ga_instance.best_solution()\n",
    "print(\"Parameters of the best solution : {solution}\".format(solution=solution))\n",
    "print(\"Fitness value of the best solution = {solution_fitness}\".format(solution_fitness=solution_fitness))"
   ]
  },
  {
   "cell_type": "code",
   "execution_count": 82,
   "metadata": {
    "ExecuteTime": {
     "end_time": "2020-12-27T17:57:49.689180Z",
     "start_time": "2020-12-27T17:57:46.951950Z"
    }
   },
   "outputs": [],
   "source": [
    "rfc = RandomForestClassifier(n_estimators=int(solution[0]),\n",
    "                            max_depth=int(solution[1]),\n",
    "                            min_samples_leaf=int(solution[2]),\n",
    "                            min_samples_split=int(solution[3]))\n",
    "rfc.fit(xtrn, ytrn)\n",
    "rfcCV = cross_validate(rfc, xtrn, ytrn,cv=5,scoring=(\"accuracy\"))"
   ]
  },
  {
   "cell_type": "code",
   "execution_count": 83,
   "metadata": {
    "ExecuteTime": {
     "end_time": "2020-12-27T17:58:11.710125Z",
     "start_time": "2020-12-27T17:58:11.632029Z"
    }
   },
   "outputs": [
    {
     "name": "stdout",
     "output_type": "stream",
     "text": [
      "train score: 0.9833333333333333\n",
      "test score: 0.9333333333333333\n"
     ]
    }
   ],
   "source": [
    "print(\"train score: %s\" % rfc.score(xtrn, ytrn))\n",
    "print(\"test score: %s\" % rfc.score(xtst, ytst))"
   ]
  },
  {
   "cell_type": "code",
   "execution_count": 92,
   "metadata": {
    "ExecuteTime": {
     "end_time": "2020-12-27T18:02:09.548907Z",
     "start_time": "2020-12-27T18:02:09.543794Z"
    }
   },
   "outputs": [
    {
     "data": {
      "text/plain": [
       "'RandomForestClassifier'"
      ]
     },
     "execution_count": 92,
     "metadata": {},
     "output_type": "execute_result"
    }
   ],
   "source": [
    "type(rfc).__name__"
   ]
  },
  {
   "cell_type": "markdown",
   "metadata": {},
   "source": [
    "# in class"
   ]
  },
  {
   "cell_type": "code",
   "execution_count": 125,
   "metadata": {
    "ExecuteTime": {
     "end_time": "2020-12-27T20:31:44.138028Z",
     "start_time": "2020-12-27T20:31:44.125173Z"
    }
   },
   "outputs": [],
   "source": [
    "class Tuner():\n",
    "    def __init__(__self__):\n",
    "        pass\n",
    "    \n",
    "    @staticmethod\n",
    "    def calssfitness_func(solution, solution_idx):\n",
    "        rfc = RandomForestClassifier(n_estimators=int(solution[0]),\n",
    "                                    max_depth=int(solution[1]),\n",
    "                                    min_samples_leaf=int(solution[2]),\n",
    "                                    min_samples_split=int(solution[3]))\n",
    "        rfc.fit(xtrn, ytrn)\n",
    "        rfcCV = cross_validate(rfc, xtrn, ytrn,cv=5,scoring=\"accuracy\")\n",
    "        fitness = rfcCV['test_score'].mean()\n",
    "        return fitness\n",
    "    \n",
    "    def choose(self):\n",
    "        return Tuner.calssfitness_func\n",
    "    \n",
    "    def tune(self):\n",
    "        ff = self.choose()\n",
    "        fitness_function = ff\n",
    "        gene_type = int\n",
    "\n",
    "        gene_space = [(10,400), [1,100], [1,25], [2,50]]\n",
    "        gene_space = [range(10,400), range(1,100), range(1,25), range(2,50)]\n",
    "\n",
    "        sol_per_pop = 4\n",
    "        num_genes = len(gene_space)\n",
    "\n",
    "        num_generations = 10\n",
    "        num_parents_mating = 3\n",
    "\n",
    "        parent_selection_type = \"sss\"\n",
    "        keep_parents = 1\n",
    "\n",
    "        crossover_type = \"single_point\"\n",
    "\n",
    "        mutation_type = \"random\"\n",
    "        mutation_percent_genes = 20\n",
    "        \n",
    "        ga_instance = pygad.GA(num_generations=num_generations,\n",
    "                       num_parents_mating=num_parents_mating,\n",
    "                       fitness_func=fitness_function,\n",
    "                       parent_selection_type=parent_selection_type,\n",
    "                       keep_parents=keep_parents,\n",
    "                       crossover_type=crossover_type,\n",
    "                       mutation_type=mutation_type,\n",
    "                       sol_per_pop=sol_per_pop,\n",
    "                       num_genes=num_genes,\n",
    "                       gene_space=gene_space,\n",
    "                       mutation_percent_genes=mutation_percent_genes)\n",
    "        ga_instance.run()\n",
    "        solution, solution_fitness, solution_idx = ga_instance.best_solution()\n",
    "        print(\"Parameters of the best solution : {solution}\".format(solution=solution))\n",
    "        print(\"Fitness value of the best solution = {solution_fitness}\".format(solution_fitness=solution_fitness))\n",
    "        \n",
    "        return ga_instance\n",
    "        \n",
    "    "
   ]
  },
  {
   "cell_type": "code",
   "execution_count": 126,
   "metadata": {
    "ExecuteTime": {
     "end_time": "2020-12-27T20:34:56.454319Z",
     "start_time": "2020-12-27T20:31:44.720410Z"
    }
   },
   "outputs": [
    {
     "name": "stdout",
     "output_type": "stream",
     "text": [
      "Parameters of the best solution : [200.  68.   1.   7.]\n",
      "Fitness value of the best solution = 0.9666666666666668\n"
     ]
    },
    {
     "data": {
      "text/plain": [
       "<pygad.pygad.GA at 0x7f12b6a3c518>"
      ]
     },
     "execution_count": 126,
     "metadata": {},
     "output_type": "execute_result"
    }
   ],
   "source": [
    "t = Tuner()\n",
    "t.tune()"
   ]
  },
  {
   "cell_type": "code",
   "execution_count": null,
   "metadata": {},
   "outputs": [],
   "source": []
  }
 ],
 "metadata": {
  "kernelspec": {
   "display_name": "Python 3",
   "language": "python",
   "name": "python3"
  },
  "language_info": {
   "codemirror_mode": {
    "name": "ipython",
    "version": 3
   },
   "file_extension": ".py",
   "mimetype": "text/x-python",
   "name": "python",
   "nbconvert_exporter": "python",
   "pygments_lexer": "ipython3",
   "version": "3.6.9"
  },
  "toc": {
   "base_numbering": 1,
   "nav_menu": {},
   "number_sections": true,
   "sideBar": true,
   "skip_h1_title": false,
   "title_cell": "Table of Contents",
   "title_sidebar": "Contents",
   "toc_cell": false,
   "toc_position": {},
   "toc_section_display": true,
   "toc_window_display": false
  }
 },
 "nbformat": 4,
 "nbformat_minor": 4
}
